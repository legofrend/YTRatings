{
 "cells": [
  {
   "cell_type": "code",
   "execution_count": 1,
   "metadata": {},
   "outputs": [],
   "source": [
    "import requests\n",
    "from bs4 import BeautifulSoup\n",
    "\n",
    "from selenium import webdriver\n",
    "from selenium.webdriver.common.by import By\n",
    "from selenium.webdriver.chrome.service import Service\n",
    "from selenium.webdriver.support.ui import WebDriverWait\n",
    "from selenium.webdriver.support import expected_conditions as EC\n",
    "import time\n",
    "from datetime import date\n",
    "\n",
    "import pandas as pd"
   ]
  },
  {
   "cell_type": "code",
   "execution_count": null,
   "metadata": {},
   "outputs": [],
   "source": [
    "\n",
    "def fetch_data(category: str):\n",
    "    # URL страницы\n",
    "    url = \"https://whatstat.ru/channels/\" + category\n",
    "\n",
    "    # Заголовки для запроса (чтобы сайт не заблокировал бота)\n",
    "    headers = {\n",
    "        \"User-Agent\": \"Mozilla/5.0 (Windows NT 10.0; Win64; x64) AppleWebKit/537.36 (KHTML, like Gecko) Chrome/110.0.0.0 Safari/537.36\"\n",
    "    }\n",
    "\n",
    "    # Отправляем GET-запрос\n",
    "    response = requests.get(url, headers=headers)\n",
    "    response.raise_for_status()  # Проверка на ошибки\n",
    "\n",
    "    # Парсим страницу\n",
    "    soup = BeautifulSoup(response.text, \"html.parser\")\n",
    "\n",
    "    # Находим таблицу\n",
    "    table = soup.find(\"table\")\n",
    "\n",
    "    # Проверяем, что таблица найдена\n",
    "    if not table:\n",
    "        print(\"Таблица не найдена!\")\n",
    "        return None\n",
    "\n",
    "    # Собираем заголовки таблицы\n",
    "    data = []\n",
    "    for row in table.find_all(\"tr\")[1:]:  # Пропускаем заголовок\n",
    "        cells = row.find_all(\"td\")\n",
    "        if cells:\n",
    "            # category = \"people_blogs\"\n",
    "            channel_name = cells[1].text.strip()\n",
    "            \n",
    "            # Ищем ссылку и извлекаем код после /channel/\n",
    "            link = cells[1].find(\"a\")\n",
    "            channel_code = link[\"href\"].split(\"/channel/\")[-1] if link else \"Нет данных\"\n",
    "\n",
    "            subscribers = cells[2].text.strip()\n",
    "            views = cells[3].text.strip()\n",
    "\n",
    "            data.append([category, channel_name, channel_code, subscribers, views])\n",
    "    return data"
   ]
  },
  {
   "cell_type": "code",
   "execution_count": null,
   "metadata": {},
   "outputs": [
    {
     "name": "stdout",
     "output_type": "stream",
     "text": [
      "pets_animals\n",
      "gaming\n",
      "music\n",
      "science_technology\n",
      "news_politics\n",
      "education\n",
      "nonprofits_activism\n",
      "travel_events\n",
      "entertainment\n",
      "sports\n",
      "cars_vehicles\n",
      "film_animation\n",
      "howto_style\n",
      "comedy\n",
      "Данные успешно сохранены в whatstat_channels.csv\n"
     ]
    }
   ],
   "source": [
    "# data = [] \n",
    "categories = ['people_blogs', 'pets_animals', 'gaming',  'music', 'science_technology', 'news_politics', 'education', 'nonprofits_activism', 'travel_events', 'entertainment', 'sports', 'cars_vehicles', 'film_animation', 'howto_style', 'comedy']\n",
    "for category in categories:\n",
    "    print(category)\n",
    "    d = fetch_data(category)\n",
    "    if d:\n",
    "        data.extend(d)\n",
    "\n",
    "df = pd.DataFrame(data, columns=[\"Категория\", \"Канал\", \"Код канала\", \"Подписчики\", \"Просмотры\"])\n",
    "df.to_csv(\"whatstat_channels.csv\", index=False, encoding=\"utf-8\", sep='\\t')\n",
    "\n",
    "print(\"Данные успешно сохранены в whatstat_channels.csv\")"
   ]
  },
  {
   "cell_type": "code",
   "execution_count": 10,
   "metadata": {},
   "outputs": [
    {
     "name": "stdout",
     "output_type": "stream",
     "text": [
      "Empty DataFrame\n",
      "Columns: [Категория, Канал, Код канала, Подписчики, Просмотры]\n",
      "Index: []\n"
     ]
    }
   ],
   "source": [
    "duplicates = df[df.duplicated(subset=[\"Код канала\"], keep=False)]\n",
    "print(duplicates)\n"
   ]
  },
  {
   "cell_type": "code",
   "execution_count": null,
   "metadata": {},
   "outputs": [],
   "source": [
    "\n",
    "\n",
    "DATES = {\"1 янв 2025 Ср\": date(2025, 1, 1), \"1 Фев 2025 Сб\": date(2025, 2, 1), \"1 мар 2025 Сб\": date(2025, 3, 1)}\n",
    "\n",
    "# Путь к chromedriver (замени на свой путь)\n",
    "CHROMEDRIVER_PATH = \"C:/chromedriver-win64/chromedriver.exe\"\n",
    "\n",
    "\n",
    "\n",
    "def fetch_channel_stat(channel_ids: list):\n",
    "    data = []\n",
    "    # Запуск Selenium\n",
    "    service = Service(CHROMEDRIVER_PATH)\n",
    "    options = webdriver.ChromeOptions()\n",
    "    options.add_argument(\"--headless\")  # Запуск без графического интерфейса (необязательно)\n",
    "    driver = webdriver.Chrome(service=service, options=options)\n",
    "    i = 0\n",
    "    try:\n",
    "        for channel_id in channel_ids:\n",
    "            i += 1\n",
    "            if (i % round(len(channel_ids)/20)) == 0:\n",
    "                print(round(i/len(channel_ids)*100), '%')\n",
    "            url = f\"https://whatstat.ru/channel/{channel_id}\"\n",
    "            # Открываем страницу\n",
    "            driver.get(url)\n",
    "\n",
    "            # Ожидаем загрузки страницы\n",
    "            wait = WebDriverWait(driver, 10)\n",
    "            button = wait.until(EC.element_to_be_clickable((By.CSS_SELECTOR, 'button.load.btn.btn-outline-primary.btn-sm[value=\"90\"]')))\n",
    "            driver.execute_script(\"arguments[0].click();\", button)  # Используем JS-клик на случай блокировки обычного клика\n",
    "            time.sleep(2)  # Ждем подгрузку данных\n",
    "\n",
    "            # Парсим таблицу статистики\n",
    "            table = wait.until(EC.presence_of_element_located((By.CLASS_NAME, \"table-stats\")))\n",
    "            rows = table.find_elements(By.TAG_NAME, \"tr\")\n",
    "\n",
    "            # Собираем данные\n",
    "            for row in rows[1:]:  # Пропускаем заголовок\n",
    "                cells = row.find_elements(By.TAG_NAME, \"td\")\n",
    "                if len(cells) >= 3:\n",
    "                    period = DATES.get(cells[0].text.strip())\n",
    "                    if not period: continue\n",
    "                    \n",
    "                    try:\n",
    "                        subscribers = int(cells[1].text.strip().split(\"\\n\")[0].replace(\" \", \"\"))\n",
    "                    except ValueError:\n",
    "                        subscribers = None  # Если число отсутствует или в некорректном формате\n",
    "                    try:\n",
    "                        views = int(cells[2].text.strip().split(\"\\n\")[0].replace(\" \", \"\"))\n",
    "                    except ValueError:\n",
    "                        views = None  # Если число отсутствует или в некорректном формате\n",
    "    \n",
    "                    \n",
    "                    data.append([channel_id, period, subscribers, views])\n",
    "\n",
    "    except Exception as e:\n",
    "        print(f\"Ошибка {i}: {url=} {e}\")\n",
    "    finally:\n",
    "        # Закрываем браузер\n",
    "        driver.quit()\n",
    "        \n",
    "    return data\n",
    "\n",
    "# ch_ids = [ch[2] for ch in data]\n",
    "# from 500 Ошибка 1704: url='https://whatstat.ru/channel/Andysmobile'\n",
    "# stat_data.extend(fetch_channel_stat(ch_ids[5500:]))\n",
    "# print(len(stat_data))\n",
    "# dfs = pd.DataFrame(stat_data, columns=[\"channel_id\", \"period\", \"subscribers\", \"views\"])\n",
    "# dfs.to_csv(\"whatstat_channels_stat.csv\", index=False, encoding=\"utf-8\", sep='\\t')\n"
   ]
  },
  {
   "cell_type": "code",
   "execution_count": 11,
   "metadata": {},
   "outputs": [
    {
     "name": "stdout",
     "output_type": "stream",
     "text": [
      "7500\n",
      "7434\n"
     ]
    }
   ],
   "source": [
    "import pandas as pd\n",
    "from app.channel import ChannelDAO\n",
    "import nest_asyncio\n",
    "nest_asyncio.apply()\n",
    "\n",
    "if False:\n",
    "    df = pd.read_csv(\"whatstat_channels.csv\", sep='\\t')\n",
    "    # ch_ids = df[\"Код канала\"].tolist()\n",
    "    print(df.columns)\n",
    "\n",
    "    channels_db = await ChannelDAO.find_all()\n",
    "    df_db = pd.DataFrame(channels_db)\n",
    "\n",
    "    # Объединяем DataFrame по полю \"Код канала\" и \"channel_id\"\n",
    "    df = df.merge(df_db, left_on=\"channel_id\", right_on=\"channel_id\", how=\"left\")\n",
    "\n",
    "# Оставляем только нужные столбцы (если не нужен \"channel_id\", можно его убрать)\n",
    "df = merged_df[['category', 'channel', 'channel_id', 'category_id', 'status']]\n",
    "f_df = df[df[\"status\"].isna() | (df[\"status\"] == 0)]\n",
    "print(len(df))\n",
    "print(len(f_df))"
   ]
  },
  {
   "cell_type": "code",
   "execution_count": null,
   "metadata": {},
   "outputs": [
    {
     "data": {
      "application/vnd.microsoft.datawrangler.viewer.v0+json": {
       "columns": [
        {
         "name": "index",
         "rawType": "int64",
         "type": "integer"
        },
        {
         "name": "category",
         "rawType": "object",
         "type": "string"
        },
        {
         "name": "channel",
         "rawType": "object",
         "type": "string"
        },
        {
         "name": "channel_id",
         "rawType": "object",
         "type": "string"
        },
        {
         "name": "category_id",
         "rawType": "int64",
         "type": "integer"
        },
        {
         "name": "status",
         "rawType": "float64",
         "type": "float"
        }
       ],
       "conversionMethod": "pd.DataFrame",
       "ref": "d77209f4-ed2e-4d76-9fe9-83f516d18117",
       "rows": [
        [
         "0",
         "people_blogs",
         "ГЛЕНТ",
         "UCBYvr4SqfGQd5fTmOXVQ4Zw",
         "10",
         null
        ],
        [
         "1",
         "people_blogs",
         "Like Nastya Vlog",
         "UCCI5Xsd_gCbZb9eTeOf9FdQ",
         "10",
         null
        ],
        [
         "2",
         "people_blogs",
         "HiMan",
         "HiBestMan",
         "10",
         null
        ],
        [
         "3",
         "people_blogs",
         "Влад и Никита",
         "UCppy4jafHu51iCMl-7qVbFA",
         "10",
         null
        ],
        [
         "4",
         "people_blogs",
         "It's Mamix",
         "UCSF6ewY9LS8GnbphwvnZpUg",
         "10",
         null
        ],
        [
         "5",
         "people_blogs",
         "BRUNO",
         "TheCartoonStory",
         "10",
         null
        ],
        [
         "6",
         "people_blogs",
         "Super Polina",
         "UCE76CBkDX591pxzps6bySOw",
         "10",
         null
        ],
        [
         "7",
         "people_blogs",
         "KiKiDo",
         "UCWGK2_WVaXWv-QrkgT9-KDw",
         "10",
         null
        ],
        [
         "8",
         "people_blogs",
         "ЛИТВИН",
         "UCy6p8krDY33mDRMt19YrlXg",
         "10",
         null
        ],
        [
         "9",
         "people_blogs",
         "MORGENSHTERN",
         "UCWnqnojAgMdN0fQpr_xByJw",
         "10",
         null
        ],
        [
         "10",
         "people_blogs",
         "FixEye",
         "UCCiGUQiWcz3lKev49TX8-Ew",
         "10",
         null
        ],
        [
         "11",
         "people_blogs",
         "Аришнев",
         "UCxm5_Y8j9Bn7LxrSHMMJ0Pw",
         "10",
         null
        ],
        [
         "12",
         "people_blogs",
         "Boys and Toys",
         "UCWI7puXzGTPuxsoW2HD3XxQ",
         "10",
         null
        ],
        [
         "13",
         "people_blogs",
         "vanzai",
         "UCw9L4gmA0nAsg6rlxBncByg",
         "10",
         null
        ],
        [
         "15",
         "people_blogs",
         "Давай поиграем в игрушки",
         "UCC-7t96Wrq1d5lwygxOvufQ",
         "10",
         null
        ],
        [
         "16",
         "people_blogs",
         "Владислав Шудейко",
         "UCKZHn9_c685SxzLtsVI8eJQ",
         "10",
         null
        ],
        [
         "17",
         "people_blogs",
         "Луана",
         "UCaj7AVYY8kNjmmNYWXg3YGg",
         "10",
         null
        ],
        [
         "18",
         "people_blogs",
         "Guka Family Show",
         "UCjTtxUhrLl5Arwv1k36MS-g",
         "10",
         null
        ],
        [
         "19",
         "people_blogs",
         "Mark Production",
         "UC33wRwkPyJ5H8HJNA2btSGQ",
         "10",
         null
        ],
        [
         "20",
         "people_blogs",
         "Mamix?",
         "UCZVOPJSmqPQQvaVnop13_EA",
         "10",
         null
        ],
        [
         "21",
         "people_blogs",
         "Anastasia Kosh",
         "UCO_j_ZAZzcoS5vDleoNbROQ",
         "10",
         null
        ],
        [
         "22",
         "people_blogs",
         "Alex Boyko",
         "UCKj4BooYGVlBTXW21nOwcgQ",
         "10",
         null
        ],
        [
         "23",
         "people_blogs",
         "Елена Райтман",
         "helenfilippa",
         "10",
         null
        ],
        [
         "24",
         "people_blogs",
         "Дим Димыч",
         "UCbMa4OByYMCGeOgyLujB8iw",
         "10",
         null
        ],
        [
         "25",
         "people_blogs",
         "TheKateClapp",
         "TheKateClapp",
         "10",
         null
        ],
        [
         "26",
         "people_blogs",
         "Nepeta Страшилки",
         "UCvwfhb4WVf29L7nto41xxVQ",
         "10",
         null
        ],
        [
         "27",
         "people_blogs",
         "Sofi Manassyan",
         "UCZFBnnCCO65xMXOdtFz8CfA",
         "10",
         null
        ],
        [
         "28",
         "people_blogs",
         "Edward Bil",
         "UCjFPu8rOAk1hleLQH6-7_Hg",
         "10",
         null
        ],
        [
         "29",
         "people_blogs",
         "MrBeast На Русском",
         "UCluBATXIP9doWvougjUVUGQ",
         "10",
         null
        ],
        [
         "30",
         "people_blogs",
         "Дюшес",
         "UCkUFua6WbuKcmMDrcxRpH7A",
         "10",
         null
        ],
        [
         "31",
         "people_blogs",
         "Anastasiz",
         "MsAnastasiz",
         "10",
         null
        ],
        [
         "32",
         "people_blogs",
         "Maryana Ro",
         "MRilakkuma",
         "10",
         null
        ],
        [
         "33",
         "people_blogs",
         "RICARDO",
         "UCUANuTxukhzzbSl8n_Mn8Hg",
         "10",
         null
        ],
        [
         "34",
         "people_blogs",
         "Sasha Spilberg",
         "SaySasha",
         "10",
         null
        ],
        [
         "35",
         "people_blogs",
         "ПАША МОРИС",
         "UCvWxubhZYxVf_SVhXA-PHjA",
         "10",
         null
        ],
        [
         "36",
         "people_blogs",
         "Petya English",
         "UCQmRC_d2-ilErjEHUrzQF9A",
         "10",
         null
        ],
        [
         "37",
         "people_blogs",
         "Аминка Витаминка",
         "UCmCK7DVS30UnjZJq2McDuXA",
         "10",
         null
        ],
        [
         "38",
         "people_blogs",
         "Кухня наизнанку",
         "UC4gVKW7oYok8-3vmeIBNB_w",
         "10",
         null
        ],
        [
         "39",
         "people_blogs",
         "ABRACADABRA TV",
         "UCjm6XUTNSz8Q68WqJIMJ0eQ",
         "10",
         null
        ],
        [
         "40",
         "people_blogs",
         "Виндяй",
         "UCdd2rozVKNHZg9oTeY_X7WQ",
         "10",
         null
        ],
        [
         "41",
         "people_blogs",
         "BadComedian",
         "TheBadComedian",
         "10",
         null
        ],
        [
         "42",
         "people_blogs",
         "My little Nastya",
         "UCPOxKewOHmwumtiIfFyhFaw",
         "10",
         null
        ],
        [
         "43",
         "people_blogs",
         "Ольга Матвей",
         "vkysnueveschi",
         "10",
         null
        ],
        [
         "45",
         "people_blogs",
         "SEVER2OFF",
         "UCx1o_0cntrXjaM2RxoTYCig",
         "10",
         null
        ],
        [
         "46",
         "people_blogs",
         "Эдисон Перец",
         "UCkEiEd4fV3pvUmcoJYacDqA",
         "10",
         null
        ],
        [
         "47",
         "people_blogs",
         "ДНЕВНИК ХАЧА",
         "UCnbxcA3kZ_uUYIBHNvxpDQw",
         "10",
         null
        ],
        [
         "48",
         "people_blogs",
         "YELLOW BLOGGER",
         "UCdAaI10sNoTH1RDyMPXL5IA",
         "10",
         null
        ],
        [
         "49",
         "people_blogs",
         "DAVA",
         "UCbh7BxJWCMnWLwJ-traa6Wg",
         "10",
         null
        ],
        [
         "50",
         "people_blogs",
         "Коннор",
         "UCWKSMczTMjVjYmTMV4ZUZEQ",
         "10",
         null
        ],
        [
         "51",
         "people_blogs",
         "The Люди",
         "UCwPzq5yQwczLmivBX8zq7Mw",
         "10",
         null
        ]
       ],
       "shape": {
        "columns": 5,
        "rows": 7434
       }
      },
      "text/html": [
       "<div>\n",
       "<style scoped>\n",
       "    .dataframe tbody tr th:only-of-type {\n",
       "        vertical-align: middle;\n",
       "    }\n",
       "\n",
       "    .dataframe tbody tr th {\n",
       "        vertical-align: top;\n",
       "    }\n",
       "\n",
       "    .dataframe thead th {\n",
       "        text-align: right;\n",
       "    }\n",
       "</style>\n",
       "<table border=\"1\" class=\"dataframe\">\n",
       "  <thead>\n",
       "    <tr style=\"text-align: right;\">\n",
       "      <th></th>\n",
       "      <th>category</th>\n",
       "      <th>channel</th>\n",
       "      <th>channel_id</th>\n",
       "      <th>category_id</th>\n",
       "      <th>status</th>\n",
       "    </tr>\n",
       "  </thead>\n",
       "  <tbody>\n",
       "    <tr>\n",
       "      <th>0</th>\n",
       "      <td>people_blogs</td>\n",
       "      <td>ГЛЕНТ</td>\n",
       "      <td>UCBYvr4SqfGQd5fTmOXVQ4Zw</td>\n",
       "      <td>10</td>\n",
       "      <td>NaN</td>\n",
       "    </tr>\n",
       "    <tr>\n",
       "      <th>1</th>\n",
       "      <td>people_blogs</td>\n",
       "      <td>Like Nastya Vlog</td>\n",
       "      <td>UCCI5Xsd_gCbZb9eTeOf9FdQ</td>\n",
       "      <td>10</td>\n",
       "      <td>NaN</td>\n",
       "    </tr>\n",
       "    <tr>\n",
       "      <th>2</th>\n",
       "      <td>people_blogs</td>\n",
       "      <td>HiMan</td>\n",
       "      <td>HiBestMan</td>\n",
       "      <td>10</td>\n",
       "      <td>NaN</td>\n",
       "    </tr>\n",
       "    <tr>\n",
       "      <th>3</th>\n",
       "      <td>people_blogs</td>\n",
       "      <td>Влад и Никита</td>\n",
       "      <td>UCppy4jafHu51iCMl-7qVbFA</td>\n",
       "      <td>10</td>\n",
       "      <td>NaN</td>\n",
       "    </tr>\n",
       "    <tr>\n",
       "      <th>4</th>\n",
       "      <td>people_blogs</td>\n",
       "      <td>It's Mamix</td>\n",
       "      <td>UCSF6ewY9LS8GnbphwvnZpUg</td>\n",
       "      <td>10</td>\n",
       "      <td>NaN</td>\n",
       "    </tr>\n",
       "    <tr>\n",
       "      <th>...</th>\n",
       "      <td>...</td>\n",
       "      <td>...</td>\n",
       "      <td>...</td>\n",
       "      <td>...</td>\n",
       "      <td>...</td>\n",
       "    </tr>\n",
       "    <tr>\n",
       "      <th>7495</th>\n",
       "      <td>comedy</td>\n",
       "      <td>Мистер Ш.</td>\n",
       "      <td>UCwn_GLvCtBlDc495zhJ8KjQ</td>\n",
       "      <td>3</td>\n",
       "      <td>NaN</td>\n",
       "    </tr>\n",
       "    <tr>\n",
       "      <th>7496</th>\n",
       "      <td>comedy</td>\n",
       "      <td>КРАСАВЧИК</td>\n",
       "      <td>UCLOl_zpGkGQC7s4cNBpsRmg</td>\n",
       "      <td>3</td>\n",
       "      <td>NaN</td>\n",
       "    </tr>\n",
       "    <tr>\n",
       "      <th>7497</th>\n",
       "      <td>comedy</td>\n",
       "      <td>კაცები</td>\n",
       "      <td>UCDIFeIrsuYy9ymmYFZy-OVA</td>\n",
       "      <td>3</td>\n",
       "      <td>NaN</td>\n",
       "    </tr>\n",
       "    <tr>\n",
       "      <th>7498</th>\n",
       "      <td>comedy</td>\n",
       "      <td>нож в печень</td>\n",
       "      <td>UCEKhm6NHvpuWlbLcmUAJm5A</td>\n",
       "      <td>3</td>\n",
       "      <td>NaN</td>\n",
       "    </tr>\n",
       "    <tr>\n",
       "      <th>7499</th>\n",
       "      <td>comedy</td>\n",
       "      <td>Dimsus</td>\n",
       "      <td>UCYNdFhfjGYJPNEsoncF06PA</td>\n",
       "      <td>3</td>\n",
       "      <td>NaN</td>\n",
       "    </tr>\n",
       "  </tbody>\n",
       "</table>\n",
       "<p>7434 rows × 5 columns</p>\n",
       "</div>"
      ],
      "text/plain": [
       "          category           channel                channel_id  category_id  \\\n",
       "0     people_blogs             ГЛЕНТ  UCBYvr4SqfGQd5fTmOXVQ4Zw           10   \n",
       "1     people_blogs  Like Nastya Vlog  UCCI5Xsd_gCbZb9eTeOf9FdQ           10   \n",
       "2     people_blogs             HiMan                 HiBestMan           10   \n",
       "3     people_blogs     Влад и Никита  UCppy4jafHu51iCMl-7qVbFA           10   \n",
       "4     people_blogs        It's Mamix  UCSF6ewY9LS8GnbphwvnZpUg           10   \n",
       "...            ...               ...                       ...          ...   \n",
       "7495        comedy         Мистер Ш.  UCwn_GLvCtBlDc495zhJ8KjQ            3   \n",
       "7496        comedy         КРАСАВЧИК  UCLOl_zpGkGQC7s4cNBpsRmg            3   \n",
       "7497        comedy            კაცები  UCDIFeIrsuYy9ymmYFZy-OVA            3   \n",
       "7498        comedy      нож в печень  UCEKhm6NHvpuWlbLcmUAJm5A            3   \n",
       "7499        comedy            Dimsus  UCYNdFhfjGYJPNEsoncF06PA            3   \n",
       "\n",
       "      status  \n",
       "0        NaN  \n",
       "1        NaN  \n",
       "2        NaN  \n",
       "3        NaN  \n",
       "4        NaN  \n",
       "...      ...  \n",
       "7495     NaN  \n",
       "7496     NaN  \n",
       "7497     NaN  \n",
       "7498     NaN  \n",
       "7499     NaN  \n",
       "\n",
       "[7434 rows x 5 columns]"
      ]
     },
     "execution_count": 12,
     "metadata": {},
     "output_type": "execute_result"
    }
   ],
   "source": [
    "category_match ={\n",
    "    \"people_blogs\": 10,\n",
    "    \"pets_animals\": 2,\n",
    "    \"gaming\": 12,\n",
    "    \"music\": 13,\n",
    "    \"science_technology\": 14,\n",
    "    \"news_politics\": 11, # 1\n",
    "    \"education\": 15,\n",
    "    \"nonprofits_activism\": 11, # 1\n",
    "    \"travel_events\": 16,\n",
    "    \"entertainment\": 17,\n",
    "    \"sports\": 18,\n",
    "    \"cars_vehicles\": 5,\n",
    "    \"film_animation\": 1, #6\n",
    "    \"howto_style\": 11,\n",
    "    \"comedy\": 3,\n",
    "}\n",
    "\n",
    "\n",
    "# 1\tПолитика\t417\n",
    "# 2\tЖивотные\t473\n",
    "# 3\tЮмор\t435\n",
    "# 4\tФинансы\t31\n",
    "# 5\tТранспорт\t429\n",
    "# 6\tФильмы и анимация\t69\n",
    "# 7\tНейросети\t47\n",
    "# 8\tНейросети Eng\t18\n",
    "# 10\tЛюди и блоги\t414\n",
    "# 11\tХобби и стиль\t1256\n",
    "# 12\tКомпьютерные игры\t377\n",
    "# 13\tМузыка\t378\n",
    "# 14\tНаука и техника\t364\n",
    "# 15\tОбразование\t411\n",
    "# 16\tПутешествия\t422\n",
    "# 17\tРазвлечения\t372\n",
    "# 18\tСпорт\t395\n",
    "\n",
    "\n",
    "f_df.loc[:, \"category_id\"] = f_df[\"category\"].map(category_match)\n",
    "f_df"
   ]
  },
  {
   "cell_type": "code",
   "execution_count": 25,
   "metadata": {},
   "outputs": [],
   "source": [
    "# f_df.[:, \"status\"] = 1\n",
    "# f_df[\"status\"] = f_df[\"status\"].astype(int)\n",
    "\n",
    "# f_df = f_df.rename(columns={\"channel\": \"channel_title\"})\n",
    "\n",
    "# records = f_df[[\"channel_id\", \"channel_title\",  \"category_id\", \"status\"]].to_dict(orient=\"records\")\n",
    "# records[:2]\n",
    "\n",
    "# for i in range(0, len(records), 100):\n",
    "#     data = records[i:i+100]\n",
    "#     await ChannelDAO.add_update_bulk(data, do_nothing=False)\n",
    "#     print(f\"{i} / {len(records)}\")"
   ]
  },
  {
   "cell_type": "code",
   "execution_count": 53,
   "metadata": {},
   "outputs": [
    {
     "name": "stdout",
     "output_type": "stream",
     "text": [
      "22469\n",
      "0 / 22469\n",
      "500 / 22469\n",
      "1000 / 22469\n",
      "1500 / 22469\n",
      "2000 / 22469\n",
      "2500 / 22469\n",
      "3000 / 22469\n",
      "3500 / 22469\n",
      "4000 / 22469\n",
      "4500 / 22469\n",
      "5000 / 22469\n",
      "5500 / 22469\n",
      "6000 / 22469\n",
      "6500 / 22469\n",
      "7000 / 22469\n",
      "7500 / 22469\n",
      "8000 / 22469\n",
      "8500 / 22469\n",
      "9000 / 22469\n",
      "9500 / 22469\n",
      "10000 / 22469\n",
      "10500 / 22469\n",
      "11000 / 22469\n",
      "11500 / 22469\n",
      "12000 / 22469\n",
      "12500 / 22469\n",
      "13000 / 22469\n",
      "13500 / 22469\n",
      "14000 / 22469\n",
      "14500 / 22469\n",
      "15000 / 22469\n",
      "15500 / 22469\n",
      "16000 / 22469\n",
      "16500 / 22469\n",
      "17000 / 22469\n",
      "17500 / 22469\n",
      "18000 / 22469\n",
      "18500 / 22469\n",
      "19000 / 22469\n",
      "19500 / 22469\n",
      "20000 / 22469\n",
      "20500 / 22469\n",
      "21000 / 22469\n",
      "21500 / 22469\n",
      "22000 / 22469\n"
     ]
    }
   ],
   "source": [
    "from app.channel import ChannelStatDAO\n",
    "\n",
    "# df_stat = pd.read_csv(\"whatstat_channels_stat.csv\", sep='\\t')\n",
    "# df_stat.rename(columns={\"period\": \"report_period\", \"subscribers\": \"subscriber_count\", \"views\": \"channel_view_count\"}, inplace=True)\n",
    "# df_stat[\"report_period\"] = pd.to_datetime(df_stat[\"report_period\"])\n",
    "# df_stat[\"data_at\"] = df_stat[\"report_period\"]\n",
    "# print(df_stat.columns)\n",
    "records = df_stat.to_dict(orient=\"records\")\n",
    "print(len(records))\n",
    "# print(records[0])\n",
    "for i in range(0, len(records), 500):\n",
    "    data = records[i:i+500]\n",
    "    await ChannelStatDAO.add_bulk(data)\n",
    "    print(f\"{i} / {len(records)}\")\n"
   ]
  },
  {
   "cell_type": "code",
   "execution_count": null,
   "metadata": {},
   "outputs": [
    {
     "name": "stderr",
     "output_type": "stream",
     "text": [
      "C:\\Users\\eremi\\AppData\\Local\\Temp\\ipykernel_14552\\644973057.py:3: FutureWarning: A value is trying to be set on a copy of a DataFrame or Series through chained assignment using an inplace method.\n",
      "The behavior will change in pandas 3.0. This inplace method will never work because the intermediate object on which we are setting values always behaves as a copy.\n",
      "\n",
      "For example, when doing 'df[col].method(value, inplace=True)', try using 'df.method({col: value}, inplace=True)' or df[col] = df[col].method(value) instead, to perform the operation inplace on the original object.\n",
      "\n",
      "\n",
      "  df_stat[\"channel_view_count\"].fillna(0, inplace=True)\n"
     ]
    },
    {
     "data": {
      "application/vnd.microsoft.datawrangler.viewer.v0+json": {
       "columns": [
        {
         "name": "index",
         "rawType": "int64",
         "type": "integer"
        },
        {
         "name": "channel_id",
         "rawType": "object",
         "type": "string"
        },
        {
         "name": "report_period",
         "rawType": "datetime64[ns]",
         "type": "datetime"
        },
        {
         "name": "subscriber_count",
         "rawType": "int64",
         "type": "integer"
        },
        {
         "name": "channel_view_count",
         "rawType": "float64",
         "type": "float"
        },
        {
         "name": "data_at",
         "rawType": "datetime64[ns]",
         "type": "datetime"
        }
       ],
       "conversionMethod": "pd.DataFrame",
       "ref": "68caa429-74d2-4bc3-b743-e78f13ea9235",
       "rows": [],
       "shape": {
        "columns": 5,
        "rows": 0
       }
      },
      "text/html": [
       "<div>\n",
       "<style scoped>\n",
       "    .dataframe tbody tr th:only-of-type {\n",
       "        vertical-align: middle;\n",
       "    }\n",
       "\n",
       "    .dataframe tbody tr th {\n",
       "        vertical-align: top;\n",
       "    }\n",
       "\n",
       "    .dataframe thead th {\n",
       "        text-align: right;\n",
       "    }\n",
       "</style>\n",
       "<table border=\"1\" class=\"dataframe\">\n",
       "  <thead>\n",
       "    <tr style=\"text-align: right;\">\n",
       "      <th></th>\n",
       "      <th>channel_id</th>\n",
       "      <th>report_period</th>\n",
       "      <th>subscriber_count</th>\n",
       "      <th>channel_view_count</th>\n",
       "      <th>data_at</th>\n",
       "    </tr>\n",
       "  </thead>\n",
       "  <tbody>\n",
       "  </tbody>\n",
       "</table>\n",
       "</div>"
      ],
      "text/plain": [
       "Empty DataFrame\n",
       "Columns: [channel_id, report_period, subscriber_count, channel_view_count, data_at]\n",
       "Index: []"
      ]
     },
     "execution_count": 52,
     "metadata": {},
     "output_type": "execute_result"
    }
   ],
   "source": [
    "# import datetime as dt\n",
    "# dt.strptime(\"1 янв 2025 Ср\", \"%d %b %Y %a\")\n",
    "# df_stat[\"channel_view_count\"] = df_stat[\"channel_view_count\"].fillna(0)\n",
    "df_stat[df_stat[\"channel_view_count\"].isna()]"
   ]
  }
 ],
 "metadata": {
  "kernelspec": {
   "display_name": ".venv",
   "language": "python",
   "name": "python3"
  },
  "language_info": {
   "codemirror_mode": {
    "name": "ipython",
    "version": 3
   },
   "file_extension": ".py",
   "mimetype": "text/x-python",
   "name": "python",
   "nbconvert_exporter": "python",
   "pygments_lexer": "ipython3",
   "version": "3.12.2"
  }
 },
 "nbformat": 4,
 "nbformat_minor": 2
}
