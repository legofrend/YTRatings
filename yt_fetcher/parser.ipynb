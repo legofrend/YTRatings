{
 "cells": [
  {
   "cell_type": "code",
   "execution_count": 1,
   "metadata": {},
   "outputs": [],
   "source": [
    "import requests\n",
    "from bs4 import BeautifulSoup\n",
    "\n",
    "from selenium import webdriver\n",
    "from selenium.webdriver.common.by import By\n",
    "from selenium.webdriver.chrome.service import Service\n",
    "from selenium.webdriver.support.ui import WebDriverWait\n",
    "from selenium.webdriver.support import expected_conditions as EC\n",
    "import time\n",
    "from datetime import date\n",
    "\n",
    "import pandas as pd"
   ]
  },
  {
   "cell_type": "code",
   "execution_count": null,
   "metadata": {},
   "outputs": [],
   "source": [
    "\n",
    "def fetch_data(category: str):\n",
    "    # URL страницы\n",
    "    url = \"https://whatstat.ru/channels/\" + category\n",
    "\n",
    "    # Заголовки для запроса (чтобы сайт не заблокировал бота)\n",
    "    headers = {\n",
    "        \"User-Agent\": \"Mozilla/5.0 (Windows NT 10.0; Win64; x64) AppleWebKit/537.36 (KHTML, like Gecko) Chrome/110.0.0.0 Safari/537.36\"\n",
    "    }\n",
    "\n",
    "    # Отправляем GET-запрос\n",
    "    response = requests.get(url, headers=headers)\n",
    "    response.raise_for_status()  # Проверка на ошибки\n",
    "\n",
    "    # Парсим страницу\n",
    "    soup = BeautifulSoup(response.text, \"html.parser\")\n",
    "\n",
    "    # Находим таблицу\n",
    "    table = soup.find(\"table\")\n",
    "\n",
    "    # Проверяем, что таблица найдена\n",
    "    if not table:\n",
    "        print(\"Таблица не найдена!\")\n",
    "        return None\n",
    "\n",
    "    # Собираем заголовки таблицы\n",
    "    data = []\n",
    "    for row in table.find_all(\"tr\")[1:]:  # Пропускаем заголовок\n",
    "        cells = row.find_all(\"td\")\n",
    "        if cells:\n",
    "            # category = \"people_blogs\"\n",
    "            channel_name = cells[1].text.strip()\n",
    "            \n",
    "            # Ищем ссылку и извлекаем код после /channel/\n",
    "            link = cells[1].find(\"a\")\n",
    "            channel_code = link[\"href\"].split(\"/channel/\")[-1] if link else \"Нет данных\"\n",
    "\n",
    "            subscribers = cells[2].text.strip()\n",
    "            views = cells[3].text.strip()\n",
    "\n",
    "            data.append([category, channel_name, channel_code, subscribers, views])\n",
    "    return data"
   ]
  },
  {
   "cell_type": "code",
   "execution_count": null,
   "metadata": {},
   "outputs": [
    {
     "name": "stdout",
     "output_type": "stream",
     "text": [
      "pets_animals\n",
      "gaming\n",
      "music\n",
      "science_technology\n",
      "news_politics\n",
      "education\n",
      "nonprofits_activism\n",
      "travel_events\n",
      "entertainment\n",
      "sports\n",
      "cars_vehicles\n",
      "film_animation\n",
      "howto_style\n",
      "comedy\n",
      "Данные успешно сохранены в whatstat_channels.csv\n"
     ]
    }
   ],
   "source": [
    "# data = [] \n",
    "categories = ['people_blogs', 'pets_animals', 'gaming',  'music', 'science_technology', 'news_politics', 'education', 'nonprofits_activism', 'travel_events', 'entertainment', 'sports', 'cars_vehicles', 'film_animation', 'howto_style', 'comedy']\n",
    "for category in categories:\n",
    "    print(category)\n",
    "    d = fetch_data(category)\n",
    "    if d:\n",
    "        data.extend(d)\n",
    "\n",
    "df = pd.DataFrame(data, columns=[\"Категория\", \"Канал\", \"Код канала\", \"Подписчики\", \"Просмотры\"])\n",
    "df.to_csv(\"whatstat_channels.csv\", index=False, encoding=\"utf-8\", sep='\\t')\n",
    "\n",
    "print(\"Данные успешно сохранены в whatstat_channels.csv\")"
   ]
  },
  {
   "cell_type": "code",
   "execution_count": 10,
   "metadata": {},
   "outputs": [
    {
     "name": "stdout",
     "output_type": "stream",
     "text": [
      "Empty DataFrame\n",
      "Columns: [Категория, Канал, Код канала, Подписчики, Просмотры]\n",
      "Index: []\n"
     ]
    }
   ],
   "source": [
    "duplicates = df[df.duplicated(subset=[\"Код канала\"], keep=False)]\n",
    "print(duplicates)\n"
   ]
  },
  {
   "cell_type": "code",
   "execution_count": null,
   "metadata": {},
   "outputs": [],
   "source": [
    "\n",
    "\n",
    "DATES = {\"1 янв 2025 Ср\": date(2025, 1, 1), \"1 Фев 2025 Сб\": date(2025, 2, 1), \"1 мар 2025 Сб\": date(2025, 3, 1)}\n",
    "\n",
    "# Путь к chromedriver (замени на свой путь)\n",
    "CHROMEDRIVER_PATH = \"C:/chromedriver-win64/chromedriver.exe\"\n",
    "\n",
    "\n",
    "\n",
    "def fetch_channel_stat(channel_ids: list):\n",
    "    data = []\n",
    "    # Запуск Selenium\n",
    "    service = Service(CHROMEDRIVER_PATH)\n",
    "    options = webdriver.ChromeOptions()\n",
    "    options.add_argument(\"--headless\")  # Запуск без графического интерфейса (необязательно)\n",
    "    driver = webdriver.Chrome(service=service, options=options)\n",
    "    i = 0\n",
    "    try:\n",
    "        for channel_id in channel_ids:\n",
    "            i += 1\n",
    "            if (i % round(len(channel_ids)/20)) == 0:\n",
    "                print(round(i/len(channel_ids)*100), '%')\n",
    "            url = f\"https://whatstat.ru/channel/{channel_id}\"\n",
    "            # Открываем страницу\n",
    "            driver.get(url)\n",
    "\n",
    "            # Ожидаем загрузки страницы\n",
    "            wait = WebDriverWait(driver, 10)\n",
    "            button = wait.until(EC.element_to_be_clickable((By.CSS_SELECTOR, 'button.load.btn.btn-outline-primary.btn-sm[value=\"90\"]')))\n",
    "            driver.execute_script(\"arguments[0].click();\", button)  # Используем JS-клик на случай блокировки обычного клика\n",
    "            time.sleep(2)  # Ждем подгрузку данных\n",
    "\n",
    "            # Парсим таблицу статистики\n",
    "            table = wait.until(EC.presence_of_element_located((By.CLASS_NAME, \"table-stats\")))\n",
    "            rows = table.find_elements(By.TAG_NAME, \"tr\")\n",
    "\n",
    "            # Собираем данные\n",
    "            for row in rows[1:]:  # Пропускаем заголовок\n",
    "                cells = row.find_elements(By.TAG_NAME, \"td\")\n",
    "                if len(cells) >= 3:\n",
    "                    period = DATES.get(cells[0].text.strip())\n",
    "                    if not period: continue\n",
    "                    \n",
    "                    try:\n",
    "                        subscribers = int(cells[1].text.strip().split(\"\\n\")[0].replace(\" \", \"\"))\n",
    "                    except ValueError:\n",
    "                        subscribers = None  # Если число отсутствует или в некорректном формате\n",
    "                    try:\n",
    "                        views = int(cells[2].text.strip().split(\"\\n\")[0].replace(\" \", \"\"))\n",
    "                    except ValueError:\n",
    "                        views = None  # Если число отсутствует или в некорректном формате\n",
    "    \n",
    "                    \n",
    "                    data.append([channel_id, period, subscribers, views])\n",
    "\n",
    "    except Exception as e:\n",
    "        print(f\"Ошибка {i}: {url=} {e}\")\n",
    "    finally:\n",
    "        # Закрываем браузер\n",
    "        driver.quit()\n",
    "        \n",
    "    return data\n",
    "\n",
    "# ch_ids = [ch[2] for ch in data]\n",
    "# from 500 Ошибка 1704: url='https://whatstat.ru/channel/Andysmobile'\n",
    "# stat_data.extend(fetch_channel_stat(ch_ids[5500:]))\n",
    "# print(len(stat_data))\n",
    "# dfs = pd.DataFrame(stat_data, columns=[\"channel_id\", \"period\", \"subscribers\", \"views\"])\n",
    "# dfs.to_csv(\"whatstat_channels_stat.csv\", index=False, encoding=\"utf-8\", sep='\\t')\n"
   ]
  },
  {
   "cell_type": "code",
   "execution_count": 14,
   "metadata": {},
   "outputs": [
    {
     "name": "stdout",
     "output_type": "stream",
     "text": [
      "7500\n",
      "500\n"
     ]
    }
   ],
   "source": [
    "import pandas as pd\n",
    "from app.channel import ChannelDAO\n",
    "import nest_asyncio\n",
    "nest_asyncio.apply()\n",
    "\n",
    "if 0:\n",
    "    df = pd.read_csv(\"logs/whatstat_channels.csv\", sep='\\t')\n",
    "    # ch_ids = df[\"Код канала\"].tolist()\n",
    "    print(df.columns)\n",
    "\n",
    "    channels_db = await ChannelDAO.find_all()\n",
    "    print(len(channels_db))\n",
    "    df_db = pd.DataFrame(channels_db)\n",
    "\n",
    "    # Объединяем DataFrame по полю \"Код канала\" и \"channel_id\"\n",
    "    df = df.merge(df_db, left_on=\"channel_id\", right_on=\"channel_id\", how=\"left\")\n",
    "    # Оставляем только нужные столбцы (если не нужен \"channel_id\", можно его убрать)\n",
    "    df = df[['category', 'channel', 'channel_id', 'category_id', 'status']]\n",
    "    \n",
    "# f_df = df[df[\"status\"].isna() | (df[\"status\"] == 0)]\n",
    "# f_df = df[(df[\"category\"]== 'news_politics') | (df[\"category\"] == 'nonprofits_activism')]\n",
    "f_df = df[(df[\"category\"]== 'film_animation')]\n",
    "print(len(df))\n",
    "print(len(f_df))"
   ]
  },
  {
   "cell_type": "code",
   "execution_count": 7,
   "metadata": {},
   "outputs": [
    {
     "name": "stdout",
     "output_type": "stream",
     "text": [
      "851\n"
     ]
    },
    {
     "data": {
      "application/vnd.microsoft.datawrangler.viewer.v0+json": {
       "columns": [
        {
         "name": "index",
         "rawType": "int64",
         "type": "integer"
        },
        {
         "name": "category",
         "rawType": "object",
         "type": "string"
        },
        {
         "name": "channel_title",
         "rawType": "object",
         "type": "string"
        },
        {
         "name": "channel_id",
         "rawType": "object",
         "type": "string"
        },
        {
         "name": "category_id",
         "rawType": "int64",
         "type": "integer"
        },
        {
         "name": "status",
         "rawType": "float64",
         "type": "float"
        }
       ],
       "conversionMethod": "pd.DataFrame",
       "ref": "88a1fe62-aa6d-4fa0-b390-2ee101416504",
       "rows": [
        [
         "2504",
         "news_politics",
         "Телеканал Прямий",
         "UCH9H_b9oJtSHBovh94yB5HA",
         "1",
         null
        ],
        [
         "2505",
         "news_politics",
         "УНІАН",
         "UCKCVeAihEfJr-pGH7B73Wyg",
         "1",
         null
        ],
        [
         "2507",
         "news_politics",
         "Фабрика новин",
         "UCMp5Buw-6LpbbV9r9Sl_5yg",
         "1",
         null
        ]
       ],
       "shape": {
        "columns": 5,
        "rows": 3
       }
      },
      "text/html": [
       "<div>\n",
       "<style scoped>\n",
       "    .dataframe tbody tr th:only-of-type {\n",
       "        vertical-align: middle;\n",
       "    }\n",
       "\n",
       "    .dataframe tbody tr th {\n",
       "        vertical-align: top;\n",
       "    }\n",
       "\n",
       "    .dataframe thead th {\n",
       "        text-align: right;\n",
       "    }\n",
       "</style>\n",
       "<table border=\"1\" class=\"dataframe\">\n",
       "  <thead>\n",
       "    <tr style=\"text-align: right;\">\n",
       "      <th></th>\n",
       "      <th>category</th>\n",
       "      <th>channel_title</th>\n",
       "      <th>channel_id</th>\n",
       "      <th>category_id</th>\n",
       "      <th>status</th>\n",
       "    </tr>\n",
       "  </thead>\n",
       "  <tbody>\n",
       "    <tr>\n",
       "      <th>2504</th>\n",
       "      <td>news_politics</td>\n",
       "      <td>Телеканал Прямий</td>\n",
       "      <td>UCH9H_b9oJtSHBovh94yB5HA</td>\n",
       "      <td>1</td>\n",
       "      <td>NaN</td>\n",
       "    </tr>\n",
       "    <tr>\n",
       "      <th>2505</th>\n",
       "      <td>news_politics</td>\n",
       "      <td>УНІАН</td>\n",
       "      <td>UCKCVeAihEfJr-pGH7B73Wyg</td>\n",
       "      <td>1</td>\n",
       "      <td>NaN</td>\n",
       "    </tr>\n",
       "    <tr>\n",
       "      <th>2507</th>\n",
       "      <td>news_politics</td>\n",
       "      <td>Фабрика новин</td>\n",
       "      <td>UCMp5Buw-6LpbbV9r9Sl_5yg</td>\n",
       "      <td>1</td>\n",
       "      <td>NaN</td>\n",
       "    </tr>\n",
       "  </tbody>\n",
       "</table>\n",
       "</div>"
      ],
      "text/plain": [
       "           category     channel_title                channel_id  category_id  \\\n",
       "2504  news_politics  Телеканал Прямий  UCH9H_b9oJtSHBovh94yB5HA            1   \n",
       "2505  news_politics             УНІАН  UCKCVeAihEfJr-pGH7B73Wyg            1   \n",
       "2507  news_politics     Фабрика новин  UCMp5Buw-6LpbbV9r9Sl_5yg            1   \n",
       "\n",
       "      status  \n",
       "2504     NaN  \n",
       "2505     NaN  \n",
       "2507     NaN  "
      ]
     },
     "execution_count": 7,
     "metadata": {},
     "output_type": "execute_result"
    }
   ],
   "source": [
    "print(len(f_df))\n",
    "f_df.head(3)"
   ]
  },
  {
   "cell_type": "code",
   "execution_count": 15,
   "metadata": {},
   "outputs": [
    {
     "data": {
      "application/vnd.microsoft.datawrangler.viewer.v0+json": {
       "columns": [
        {
         "name": "index",
         "rawType": "int64",
         "type": "integer"
        },
        {
         "name": "category",
         "rawType": "object",
         "type": "string"
        },
        {
         "name": "channel",
         "rawType": "object",
         "type": "string"
        },
        {
         "name": "channel_id",
         "rawType": "object",
         "type": "string"
        },
        {
         "name": "category_id",
         "rawType": "float64",
         "type": "float"
        },
        {
         "name": "status",
         "rawType": "float64",
         "type": "float"
        }
       ],
       "conversionMethod": "pd.DataFrame",
       "ref": "f2b371cd-8537-4e92-b56a-45b93be0e4b1",
       "rows": [
        [
         "6009",
         "film_animation",
         "DareX",
         "UCb1WBEEfA4e6FOLOKAH5j8w",
         "6.0",
         null
        ],
        [
         "6013",
         "film_animation",
         "Три Кота",
         "UCBZNnwQOBirwpeWncqTj_KQ",
         "6.0",
         null
        ],
        [
         "6016",
         "film_animation",
         "WB Kids International",
         "UCwKa3PzQeReoqMqNkDgG-8w",
         "6.0",
         null
        ],
        [
         "6018",
         "film_animation",
         "ZAKATOON",
         "UCNVy3JfDYZ8jgsipemTMiGA",
         "6.0",
         null
        ],
        [
         "6019",
         "film_animation",
         "КиноМУР",
         "UCyN8Cpug_YwyAKCXbJ9jXrg",
         "6.0",
         null
        ],
        [
         "6020",
         "film_animation",
         "Кинокомпания «Русское»",
         "UCl0lW3ojU3ERRNwu3fSIiUQ",
         "6.0",
         null
        ],
        [
         "6021",
         "film_animation",
         "Мульт",
         "UCM3vklq_KgWZDmbfg_0Yg_A",
         "6.0",
         null
        ],
        [
         "6022",
         "film_animation",
         "Первый музыкальный канал для детей",
         "UC9j71xFn3rdJApkKsetoC3Q",
         "6.0",
         null
        ],
        [
         "6023",
         "film_animation",
         "HeyKids - Песни Для Детей",
         "UCBrV_is2j-XaQShG36QtEKQ",
         "6.0",
         null
        ],
        [
         "6027",
         "film_animation",
         "Epic Media",
         "UC608azSGWiQYi5ImYgOZgdg",
         "6.0",
         null
        ],
        [
         "6029",
         "film_animation",
         "TaDaBoom песенки для детей",
         "UCYdtrIg2mfi8KkfNQUmQZoQ",
         "6.0",
         null
        ],
        [
         "6030",
         "film_animation",
         "КРУТОЙ ПАПА на",
         "UCGzfmBOI0dFy8CYV4szCkXA",
         "6.0",
         null
        ],
        [
         "6031",
         "film_animation",
         "Буба – Мультфильм для детей",
         "UCoP1_wpRZj-qmmVUCGz3_Aw",
         "6.0",
         null
        ],
        [
         "6032",
         "film_animation",
         "Діма і Машинки",
         "UC1Xz2zFyRGvt06qMJHfz27w",
         "6.0",
         null
        ],
        [
         "6033",
         "film_animation",
         "Паша Пэл",
         "UCF0yfUFQlNS67JpGIh_9ApA",
         "6.0",
         null
        ],
        [
         "6034",
         "film_animation",
         "Kids Tv Russia - песенки для детей",
         "UCfeljpDR__qqp-lLBJdiQkw",
         "6.0",
         null
        ],
        [
         "6035",
         "film_animation",
         "Мультики",
         "UCoEl0fhXJDaoH-9rGUvf45w",
         "6.0",
         null
        ],
        [
         "6036",
         "film_animation",
         "Film",
         "UCsRbA_leAOKaeDLXmGEmHjg",
         "6.0",
         null
        ],
        [
         "6037",
         "film_animation",
         "FILM.UA Group",
         "UCa4grme_V_sz4c2P5B-hAIw",
         "6.0",
         null
        ],
        [
         "6038",
         "film_animation",
         "ЛЕДИ БАГ И СУПЕР-КОТ - официальный канал",
         "UCT4p4B8sRyKPgraEmiIU1qg",
         "6.0",
         null
        ],
        [
         "6041",
         "film_animation",
         "KINOFILM TV",
         "UCJaCPPXppyU-v-T3DInLV5g",
         "6.0",
         null
        ],
        [
         "6042",
         "film_animation",
         "Киножурнал Ералаш",
         "UC0u6gAESA0XmSJQaAyDTTVg",
         "6.0",
         null
        ],
        [
         "6045",
         "film_animation",
         "Khabar TV",
         "UCOBmXp_2O09zqNR5qv2Qr-A",
         "6.0",
         null
        ],
        [
         "6046",
         "film_animation",
         "Буба – Новые серии и сборники мультфильма",
         "UCIMeqT0RytDcUmUyBlbtKiA",
         "6.0",
         null
        ],
        [
         "6047",
         "film_animation",
         "Русское Кино",
         "UC2Ztc82bXrd6XZgvtgkoCrw",
         "6.0",
         null
        ],
        [
         "6048",
         "film_animation",
         "Фани Хани",
         "UCrdSQEkzjhy_czNcvJ1fmGw",
         "6.0",
         null
        ],
        [
         "6049",
         "film_animation",
         "NaStik",
         "UCCkG_UbtkgyIM38u_9SwdbA",
         "6.0",
         null
        ],
        [
         "6050",
         "film_animation",
         "Союзмультфильм",
         "UCHS2LM1n3f5cyL-ebgkqyLw",
         "6.0",
         null
        ],
        [
         "6052",
         "film_animation",
         "Мирби",
         "UCkkTyNJPZ3tKbEVFY5IEOJg",
         "6.0",
         null
        ],
        [
         "6053",
         "film_animation",
         "KEDOO МУЛЬТИКИ для детей",
         "UCwMABIDNcqe2GS_Sm2jHKGg",
         "6.0",
         null
        ],
        [
         "6054",
         "film_animation",
         "Аниматор Димка",
         "UCQSVvF4H-65TXenJ7Hpr8QA",
         "6.0",
         null
        ],
        [
         "6055",
         "film_animation",
         "X2DED",
         "UCLNrn6a4Co8D6H7jRZtNPcA",
         "6.0",
         null
        ],
        [
         "6057",
         "film_animation",
         "Жила-была Царевна",
         "UC_sl0iB9sVbKmc7YJdQA78w",
         "6.0",
         null
        ],
        [
         "6060",
         "film_animation",
         "Filmegator",
         "UCZnNNrFA_CcVDZLg6GGd2MA",
         "6.0",
         null
        ],
        [
         "6061",
         "film_animation",
         "Cool GAMES",
         "UC7r_7zmnTa1zi57cbmRKeEQ",
         "6.0",
         null
        ],
        [
         "6062",
         "film_animation",
         "MetalFamily",
         "UCdARvxgVxVzxvtyPb2CqO-w",
         "6.0",
         null
        ],
        [
         "6063",
         "film_animation",
         "Волшебство ТВ",
         "UCkSuRQb0oa3R6jGcbBkhM2w",
         "6.0",
         null
        ],
        [
         "6064",
         "film_animation",
         "Космические Шары",
         "UCeIL5_nLXHcPPba0MYhOJyg",
         "6.0",
         null
        ],
        [
         "6068",
         "film_animation",
         "Грузовичок Лева",
         "UCOnNVIVad4EqpkrNwzFKwzA",
         "6.0",
         null
        ],
        [
         "6071",
         "film_animation",
         "КиноМурка",
         "UCbt1nwQXG6PZIn8iEgvMyVw",
         "6.0",
         null
        ],
        [
         "6073",
         "film_animation",
         "Классные Мультики",
         "UCekJYjb2Eqkj7dSmpGl9KUA",
         "6.0",
         null
        ],
        [
         "6074",
         "film_animation",
         "МиниМи",
         "UCuwd8ZUcKRyFmIR7t4omhtQ",
         "6.0",
         null
        ],
        [
         "6076",
         "film_animation",
         "Доктор Гнус",
         "UCwQcna2wh3QtGx_VJVvzTyw",
         "6.0",
         null
        ],
        [
         "6077",
         "film_animation",
         "Вторая Жизнь",
         "UCv6JjybWZnrKlrQ8HSok5Vw",
         "6.0",
         null
        ],
        [
         "6078",
         "film_animation",
         "Timmy & Friends",
         "UCstNioB2LjSqABXd1b4EWvw",
         "6.0",
         null
        ],
        [
         "6079",
         "film_animation",
         "Watch Movies - библиотека фильмов",
         "UC3N4p9X5DjPCH184X-izRwA",
         "6.0",
         null
        ],
        [
         "6080",
         "film_animation",
         "СИРЕНА СТУДИО",
         "UCOe4GNY30CPfe50vj_fw1GQ",
         "6.0",
         null
        ],
        [
         "6081",
         "film_animation",
         "Movie Hall",
         "UC5ydvqLtSbBqbxuQJwaGvUA",
         "6.0",
         null
        ],
        [
         "6082",
         "film_animation",
         "Царевны",
         "UCUWktU9yc1kitioCNS-U6hw",
         "6.0",
         null
        ],
        [
         "6083",
         "film_animation",
         "Вэлл",
         "UCo-Wokww_dW0iCSBVJzs10A",
         "6.0",
         null
        ]
       ],
       "shape": {
        "columns": 5,
        "rows": 394
       }
      },
      "text/html": [
       "<div>\n",
       "<style scoped>\n",
       "    .dataframe tbody tr th:only-of-type {\n",
       "        vertical-align: middle;\n",
       "    }\n",
       "\n",
       "    .dataframe tbody tr th {\n",
       "        vertical-align: top;\n",
       "    }\n",
       "\n",
       "    .dataframe thead th {\n",
       "        text-align: right;\n",
       "    }\n",
       "</style>\n",
       "<table border=\"1\" class=\"dataframe\">\n",
       "  <thead>\n",
       "    <tr style=\"text-align: right;\">\n",
       "      <th></th>\n",
       "      <th>category</th>\n",
       "      <th>channel</th>\n",
       "      <th>channel_id</th>\n",
       "      <th>category_id</th>\n",
       "      <th>status</th>\n",
       "    </tr>\n",
       "  </thead>\n",
       "  <tbody>\n",
       "    <tr>\n",
       "      <th>6009</th>\n",
       "      <td>film_animation</td>\n",
       "      <td>DareX</td>\n",
       "      <td>UCb1WBEEfA4e6FOLOKAH5j8w</td>\n",
       "      <td>6.0</td>\n",
       "      <td>NaN</td>\n",
       "    </tr>\n",
       "    <tr>\n",
       "      <th>6013</th>\n",
       "      <td>film_animation</td>\n",
       "      <td>Три Кота</td>\n",
       "      <td>UCBZNnwQOBirwpeWncqTj_KQ</td>\n",
       "      <td>6.0</td>\n",
       "      <td>NaN</td>\n",
       "    </tr>\n",
       "    <tr>\n",
       "      <th>6016</th>\n",
       "      <td>film_animation</td>\n",
       "      <td>WB Kids International</td>\n",
       "      <td>UCwKa3PzQeReoqMqNkDgG-8w</td>\n",
       "      <td>6.0</td>\n",
       "      <td>NaN</td>\n",
       "    </tr>\n",
       "    <tr>\n",
       "      <th>6018</th>\n",
       "      <td>film_animation</td>\n",
       "      <td>ZAKATOON</td>\n",
       "      <td>UCNVy3JfDYZ8jgsipemTMiGA</td>\n",
       "      <td>6.0</td>\n",
       "      <td>NaN</td>\n",
       "    </tr>\n",
       "    <tr>\n",
       "      <th>6019</th>\n",
       "      <td>film_animation</td>\n",
       "      <td>КиноМУР</td>\n",
       "      <td>UCyN8Cpug_YwyAKCXbJ9jXrg</td>\n",
       "      <td>6.0</td>\n",
       "      <td>NaN</td>\n",
       "    </tr>\n",
       "    <tr>\n",
       "      <th>...</th>\n",
       "      <td>...</td>\n",
       "      <td>...</td>\n",
       "      <td>...</td>\n",
       "      <td>...</td>\n",
       "      <td>...</td>\n",
       "    </tr>\n",
       "    <tr>\n",
       "      <th>6492</th>\n",
       "      <td>film_animation</td>\n",
       "      <td>Hot Wheels Россия</td>\n",
       "      <td>UCUr0P6x8O9qzMyYrsiK9erA</td>\n",
       "      <td>6.0</td>\n",
       "      <td>NaN</td>\n",
       "    </tr>\n",
       "    <tr>\n",
       "      <th>6493</th>\n",
       "      <td>film_animation</td>\n",
       "      <td>Спокойной ночи, малыши!</td>\n",
       "      <td>UCoVS2PU1QJpXrO9oTyke2cw</td>\n",
       "      <td>6.0</td>\n",
       "      <td>NaN</td>\n",
       "    </tr>\n",
       "    <tr>\n",
       "      <th>6494</th>\n",
       "      <td>film_animation</td>\n",
       "      <td>Pastime</td>\n",
       "      <td>UCxSZ0B_GUU4nNECXZedgy9w</td>\n",
       "      <td>6.0</td>\n",
       "      <td>NaN</td>\n",
       "    </tr>\n",
       "    <tr>\n",
       "      <th>6497</th>\n",
       "      <td>film_animation</td>\n",
       "      <td>Мурвел</td>\n",
       "      <td>UClS7qgoaan8I0HgyrFpkXiw</td>\n",
       "      <td>6.0</td>\n",
       "      <td>NaN</td>\n",
       "    </tr>\n",
       "    <tr>\n",
       "      <th>6498</th>\n",
       "      <td>film_animation</td>\n",
       "      <td>Gumunksveet</td>\n",
       "      <td>UCmlt7awQTvytjvdmvhRshkw</td>\n",
       "      <td>6.0</td>\n",
       "      <td>NaN</td>\n",
       "    </tr>\n",
       "  </tbody>\n",
       "</table>\n",
       "<p>394 rows × 5 columns</p>\n",
       "</div>"
      ],
      "text/plain": [
       "            category                  channel                channel_id  \\\n",
       "6009  film_animation                    DareX  UCb1WBEEfA4e6FOLOKAH5j8w   \n",
       "6013  film_animation                 Три Кота  UCBZNnwQOBirwpeWncqTj_KQ   \n",
       "6016  film_animation    WB Kids International  UCwKa3PzQeReoqMqNkDgG-8w   \n",
       "6018  film_animation                 ZAKATOON  UCNVy3JfDYZ8jgsipemTMiGA   \n",
       "6019  film_animation                  КиноМУР  UCyN8Cpug_YwyAKCXbJ9jXrg   \n",
       "...              ...                      ...                       ...   \n",
       "6492  film_animation        Hot Wheels Россия  UCUr0P6x8O9qzMyYrsiK9erA   \n",
       "6493  film_animation  Спокойной ночи, малыши!  UCoVS2PU1QJpXrO9oTyke2cw   \n",
       "6494  film_animation                  Pastime  UCxSZ0B_GUU4nNECXZedgy9w   \n",
       "6497  film_animation                   Мурвел  UClS7qgoaan8I0HgyrFpkXiw   \n",
       "6498  film_animation              Gumunksveet  UCmlt7awQTvytjvdmvhRshkw   \n",
       "\n",
       "      category_id  status  \n",
       "6009          6.0     NaN  \n",
       "6013          6.0     NaN  \n",
       "6016          6.0     NaN  \n",
       "6018          6.0     NaN  \n",
       "6019          6.0     NaN  \n",
       "...           ...     ...  \n",
       "6492          6.0     NaN  \n",
       "6493          6.0     NaN  \n",
       "6494          6.0     NaN  \n",
       "6497          6.0     NaN  \n",
       "6498          6.0     NaN  \n",
       "\n",
       "[394 rows x 5 columns]"
      ]
     },
     "execution_count": 15,
     "metadata": {},
     "output_type": "execute_result"
    }
   ],
   "source": [
    "category_match ={\n",
    "    \"people_blogs\": 10,\n",
    "    \"pets_animals\": 2,\n",
    "    \"gaming\": 12,\n",
    "    \"music\": 13,\n",
    "    \"science_technology\": 14,\n",
    "    \"news_politics\": 1, # 1\n",
    "    \"education\": 15,\n",
    "    \"nonprofits_activism\": 1, # 1\n",
    "    \"travel_events\": 16,\n",
    "    \"entertainment\": 17,\n",
    "    \"sports\": 18,\n",
    "    \"cars_vehicles\": 5,\n",
    "    \"film_animation\": 6, #6\n",
    "    \"howto_style\": 11,\n",
    "    \"comedy\": 3,\n",
    "}\n",
    "\n",
    "\n",
    "\n",
    "f_df.loc[:, \"category_id\"] = f_df[\"category\"].map(category_match)\n",
    "f_df = f_df[f_df[\"channel_id\"].str.startswith(\"UC\")]\n",
    "f_df"
   ]
  },
  {
   "cell_type": "code",
   "execution_count": 16,
   "metadata": {},
   "outputs": [
    {
     "name": "stdout",
     "output_type": "stream",
     "text": [
      "[{'channel_id': 'UCb1WBEEfA4e6FOLOKAH5j8w', 'category_id': 6}, {'channel_id': 'UCBZNnwQOBirwpeWncqTj_KQ', 'category_id': 6}]\n",
      "0 / 394\n",
      "100 / 394\n",
      "200 / 394\n",
      "300 / 394\n"
     ]
    }
   ],
   "source": [
    "# f_df.[:, \"status\"] = 1\n",
    "# f_df[\"status\"] = f_df[\"status\"].astype(int)\n",
    "\n",
    "f_df[\"category_id\"] = f_df[\"category_id\"].astype(int)\n",
    "# f_df = f_df.rename(columns={\"channel\": \"channel_title\"})\n",
    "\n",
    "# records = f_df[[\"channel_id\", \"channel_title\",  \"category_id\", \"status\"]].to_dict(orient=\"records\")\n",
    "records = f_df[[\"channel_id\",  \"category_id\"]].to_dict(orient=\"records\")\n",
    "print(records[:2])\n",
    "\n",
    "for i in range(0, len(records), 100):\n",
    "    data = records[i:i+100]\n",
    "    await ChannelDAO.update_bulk(data)\n",
    "    # await ChannelDAO.add_update_bulk(data, do_nothing=False)\n",
    "    print(f\"{i} / {len(records)}\")"
   ]
  },
  {
   "cell_type": "code",
   "execution_count": 53,
   "metadata": {},
   "outputs": [
    {
     "name": "stdout",
     "output_type": "stream",
     "text": [
      "22469\n",
      "0 / 22469\n",
      "500 / 22469\n",
      "1000 / 22469\n",
      "1500 / 22469\n",
      "2000 / 22469\n",
      "2500 / 22469\n",
      "3000 / 22469\n",
      "3500 / 22469\n",
      "4000 / 22469\n",
      "4500 / 22469\n",
      "5000 / 22469\n",
      "5500 / 22469\n",
      "6000 / 22469\n",
      "6500 / 22469\n",
      "7000 / 22469\n",
      "7500 / 22469\n",
      "8000 / 22469\n",
      "8500 / 22469\n",
      "9000 / 22469\n",
      "9500 / 22469\n",
      "10000 / 22469\n",
      "10500 / 22469\n",
      "11000 / 22469\n",
      "11500 / 22469\n",
      "12000 / 22469\n",
      "12500 / 22469\n",
      "13000 / 22469\n",
      "13500 / 22469\n",
      "14000 / 22469\n",
      "14500 / 22469\n",
      "15000 / 22469\n",
      "15500 / 22469\n",
      "16000 / 22469\n",
      "16500 / 22469\n",
      "17000 / 22469\n",
      "17500 / 22469\n",
      "18000 / 22469\n",
      "18500 / 22469\n",
      "19000 / 22469\n",
      "19500 / 22469\n",
      "20000 / 22469\n",
      "20500 / 22469\n",
      "21000 / 22469\n",
      "21500 / 22469\n",
      "22000 / 22469\n"
     ]
    }
   ],
   "source": [
    "from app.channel import ChannelStatDAO\n",
    "\n",
    "# df_stat = pd.read_csv(\"whatstat_channels_stat.csv\", sep='\\t')\n",
    "# df_stat.rename(columns={\"period\": \"report_period\", \"subscribers\": \"subscriber_count\", \"views\": \"channel_view_count\"}, inplace=True)\n",
    "# df_stat[\"report_period\"] = pd.to_datetime(df_stat[\"report_period\"])\n",
    "# df_stat[\"data_at\"] = df_stat[\"report_period\"]\n",
    "# print(df_stat.columns)\n",
    "records = df_stat.to_dict(orient=\"records\")\n",
    "print(len(records))\n",
    "# print(records[0])\n",
    "for i in range(0, len(records), 500):\n",
    "    data = records[i:i+500]\n",
    "    await ChannelStatDAO.add_bulk(data)\n",
    "    print(f\"{i} / {len(records)}\")\n"
   ]
  },
  {
   "cell_type": "code",
   "execution_count": null,
   "metadata": {},
   "outputs": [
    {
     "name": "stderr",
     "output_type": "stream",
     "text": [
      "C:\\Users\\eremi\\AppData\\Local\\Temp\\ipykernel_14552\\644973057.py:3: FutureWarning: A value is trying to be set on a copy of a DataFrame or Series through chained assignment using an inplace method.\n",
      "The behavior will change in pandas 3.0. This inplace method will never work because the intermediate object on which we are setting values always behaves as a copy.\n",
      "\n",
      "For example, when doing 'df[col].method(value, inplace=True)', try using 'df.method({col: value}, inplace=True)' or df[col] = df[col].method(value) instead, to perform the operation inplace on the original object.\n",
      "\n",
      "\n",
      "  df_stat[\"channel_view_count\"].fillna(0, inplace=True)\n"
     ]
    },
    {
     "data": {
      "application/vnd.microsoft.datawrangler.viewer.v0+json": {
       "columns": [
        {
         "name": "index",
         "rawType": "int64",
         "type": "integer"
        },
        {
         "name": "channel_id",
         "rawType": "object",
         "type": "string"
        },
        {
         "name": "report_period",
         "rawType": "datetime64[ns]",
         "type": "datetime"
        },
        {
         "name": "subscriber_count",
         "rawType": "int64",
         "type": "integer"
        },
        {
         "name": "channel_view_count",
         "rawType": "float64",
         "type": "float"
        },
        {
         "name": "data_at",
         "rawType": "datetime64[ns]",
         "type": "datetime"
        }
       ],
       "conversionMethod": "pd.DataFrame",
       "ref": "68caa429-74d2-4bc3-b743-e78f13ea9235",
       "rows": [],
       "shape": {
        "columns": 5,
        "rows": 0
       }
      },
      "text/html": [
       "<div>\n",
       "<style scoped>\n",
       "    .dataframe tbody tr th:only-of-type {\n",
       "        vertical-align: middle;\n",
       "    }\n",
       "\n",
       "    .dataframe tbody tr th {\n",
       "        vertical-align: top;\n",
       "    }\n",
       "\n",
       "    .dataframe thead th {\n",
       "        text-align: right;\n",
       "    }\n",
       "</style>\n",
       "<table border=\"1\" class=\"dataframe\">\n",
       "  <thead>\n",
       "    <tr style=\"text-align: right;\">\n",
       "      <th></th>\n",
       "      <th>channel_id</th>\n",
       "      <th>report_period</th>\n",
       "      <th>subscriber_count</th>\n",
       "      <th>channel_view_count</th>\n",
       "      <th>data_at</th>\n",
       "    </tr>\n",
       "  </thead>\n",
       "  <tbody>\n",
       "  </tbody>\n",
       "</table>\n",
       "</div>"
      ],
      "text/plain": [
       "Empty DataFrame\n",
       "Columns: [channel_id, report_period, subscriber_count, channel_view_count, data_at]\n",
       "Index: []"
      ]
     },
     "execution_count": 52,
     "metadata": {},
     "output_type": "execute_result"
    }
   ],
   "source": [
    "# import datetime as dt\n",
    "# dt.strptime(\"1 янв 2025 Ср\", \"%d %b %Y %a\")\n",
    "# df_stat[\"channel_view_count\"] = df_stat[\"channel_view_count\"].fillna(0)\n",
    "df_stat[df_stat[\"channel_view_count\"].isna()]"
   ]
  }
 ],
 "metadata": {
  "kernelspec": {
   "display_name": ".venv",
   "language": "python",
   "name": "python3"
  },
  "language_info": {
   "codemirror_mode": {
    "name": "ipython",
    "version": 3
   },
   "file_extension": ".py",
   "mimetype": "text/x-python",
   "name": "python",
   "nbconvert_exporter": "python",
   "pygments_lexer": "ipython3",
   "version": "3.12.2"
  }
 },
 "nbformat": 4,
 "nbformat_minor": 2
}
