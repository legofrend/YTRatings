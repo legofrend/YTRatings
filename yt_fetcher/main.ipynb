{
 "cells": [
  {
   "cell_type": "code",
   "execution_count": 21,
   "id": "d40e7f68",
   "metadata": {},
   "outputs": [],
   "source": [
    "from app.period import Period\n",
    "from app.channel import ChannelDAO, ChannelStatDAO, VideoDAO, VideoStatDAO\n",
    "from app.report import ReportDAO\n",
    "import nest_asyncio\n",
    "nest_asyncio.apply()\n",
    "\n",
    "\n",
    "category_id = 5\n",
    "period = Period(10)\n",
    "\n",
    "## Add new channel\n",
    "# names = \"\"\"@kinopoisk\"\"\".split(\" \")\n",
    "# print(names)\n",
    "# VideoDAO.search_new_by_channel_period(names, period)\n",
    "# print(\"OK\")\n",
    "\n",
    "# for name in names:\n",
    "#     ChannelDAO.search_channel(name, category_id=category_id)\n",
    "# res = ChannelDAO.update_detail()\n",
    "\n",
    "## Update data for period\n",
    "# res = ChannelStatDAO.update_stat(report_period=period, category_id=category_id)\n",
    "# VideoDAO.search_new_by_category_period(period=period, category_ids=category_id)\n",
    "# VideoDAO.update_detail()\n",
    "# VideoDAO.update_is_short()\n",
    "# VideoStatDAO.update_stat(report_period=period, category_id=category_id)\n",
    "# ReportDAO.build(period, category_id)\n",
    "\n",
    "from app.report.tools import gen_script, render_info_pic\n",
    "\n",
    "# tmpl_file = \"../video_gen/templates/script_tmpl_auto_short.txt\"\n",
    "# output_file = \"../video_gen/2024-10/Авто/script.txt\"\n",
    "# report = await ReportDAO.get(period, category_id)\n",
    "# data = report.data\n",
    "\n",
    "# gen_script(report.data, tmpl_file, output_file)\n",
    "\n",
    "# for item in data[:1]:\n",
    "#     render_info_pic(report.period, report.category.name, item, 0)\n",
    "\n",
    "\n"
   ]
  },
  {
   "cell_type": "code",
   "execution_count": null,
   "id": "c50f1d98",
   "metadata": {},
   "outputs": [
    {
     "name": "stdout",
     "output_type": "stream",
     "text": [
      "200\n"
     ]
    },
    {
     "data": {
      "text/plain": [
       "True"
      ]
     },
     "execution_count": 7,
     "metadata": {},
     "output_type": "execute_result"
    },
    {
     "ename": "",
     "evalue": "",
     "output_type": "error",
     "traceback": [
      "\u001b[1;31mThe Kernel crashed while executing code in the current cell or a previous cell. \n",
      "\u001b[1;31mPlease review the code in the cell(s) to identify a possible cause of the failure. \n",
      "\u001b[1;31mClick <a href='https://aka.ms/vscodeJupyterKernelCrash'>here</a> for more info. \n",
      "\u001b[1;31mView Jupyter <a href='command:jupyter.viewOutput'>log</a> for further details."
     ]
    }
   ],
   "source": [
    "from openai import OpenAI\n",
    "import json\n",
    "from app.config import settings\n",
    "from app.logger import logger, save_errors\n",
    "from app.channel import VideoDAO\n",
    "from app.period import Period\n",
    "\n",
    "\n",
    "response = []\n",
    "\n",
    "print(len(response))\n",
    "\n",
    "await VideoDAO.update_bulk(response)\n",
    "\n",
    "\n"
   ]
  },
  {
   "cell_type": "code",
   "execution_count": 6,
   "id": "a02b7c78",
   "metadata": {},
   "outputs": [
    {
     "name": "stdout",
     "output_type": "stream",
     "text": [
      "15\n"
     ]
    }
   ],
   "source": [
    "i = 5\n",
    "a = 10\n",
    "print(f\"{i+a}\")\n"
   ]
  },
  {
   "cell_type": "code",
   "execution_count": null,
   "id": "8c869d80",
   "metadata": {},
   "outputs": [
    {
     "data": {
      "text/plain": [
       "[2, 1]"
      ]
     },
     "execution_count": 14,
     "metadata": {},
     "output_type": "execute_result"
    }
   ],
   "source": [
    "\n",
    "\n"
   ]
  },
  {
   "cell_type": "code",
   "execution_count": null,
   "id": "1b087bf7",
   "metadata": {},
   "outputs": [],
   "source": [
    "\n"
   ]
  },
  {
   "cell_type": "code",
   "execution_count": 9,
   "id": "b8dbe5a6",
   "metadata": {},
   "outputs": [
    {
     "name": "stdout",
     "output_type": "stream",
     "text": [
      "<class 'PIL.ImageFont.FreeTypeFont'>\n"
     ]
    }
   ],
   "source": []
  },
  {
   "cell_type": "code",
   "execution_count": 3,
   "id": "be7dd822",
   "metadata": {},
   "outputs": [],
   "source": []
  },
  {
   "cell_type": "code",
   "execution_count": 3,
   "id": "b73ccada",
   "metadata": {},
   "outputs": [
    {
     "data": {
      "text/plain": [
       "42"
      ]
     },
     "execution_count": 3,
     "metadata": {},
     "output_type": "execute_result"
    }
   ],
   "source": []
  }
 ],
 "metadata": {
  "kernelspec": {
   "display_name": ".venv",
   "language": "python",
   "name": "python3"
  },
  "language_info": {
   "codemirror_mode": {
    "name": "ipython",
    "version": 3
   },
   "file_extension": ".py",
   "mimetype": "text/x-python",
   "name": "python",
   "nbconvert_exporter": "python",
   "pygments_lexer": "ipython3",
   "version": "3.12.2"
  }
 },
 "nbformat": 4,
 "nbformat_minor": 5
}
