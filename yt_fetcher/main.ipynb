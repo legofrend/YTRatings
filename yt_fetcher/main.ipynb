{
 "cells": [
  {
   "cell_type": "code",
   "execution_count": 3,
   "id": "d40e7f68",
   "metadata": {},
   "outputs": [
    {
     "name": "stderr",
     "output_type": "stream",
     "text": [
      "{\"timestamp\": \"2024-11-09T13:02:25.195073Z\", \"level\": \"INFO\", \"message\": \"Added to channel 0 records, updated 1\", \"module\": \"dao\", \"funcName\": \"add_update_bulk\", \"taskName\": \"Task-4\"}\n"
     ]
    },
    {
     "ename": "AttributeError",
     "evalue": "'tuple' object has no attribute 'strf'",
     "output_type": "error",
     "traceback": [
      "\u001b[1;31m---------------------------------------------------------------------------\u001b[0m",
      "\u001b[1;31mAttributeError\u001b[0m                            Traceback (most recent call last)",
      "Cell \u001b[1;32mIn[3], line 21\u001b[0m\n\u001b[0;32m     18\u001b[0m res \u001b[38;5;241m=\u001b[39m ChannelDAO\u001b[38;5;241m.\u001b[39mupdate_detail()\n\u001b[0;32m     20\u001b[0m \u001b[38;5;66;03m## Update data for period\u001b[39;00m\n\u001b[1;32m---> 21\u001b[0m res \u001b[38;5;241m=\u001b[39m \u001b[43mChannelStatDAO\u001b[49m\u001b[38;5;241;43m.\u001b[39;49m\u001b[43mupdate_stat\u001b[49m\u001b[43m(\u001b[49m\u001b[43mreport_period\u001b[49m\u001b[38;5;241;43m=\u001b[39;49m\u001b[43mperiod\u001b[49m\u001b[43m,\u001b[49m\u001b[43m \u001b[49m\u001b[43mcategory_id\u001b[49m\u001b[38;5;241;43m=\u001b[39;49m\u001b[43mcategory_id\u001b[49m\u001b[43m)\u001b[49m\n\u001b[0;32m     22\u001b[0m \u001b[38;5;66;03m# VideoDAO.search_new_by_category_period(period=period, category_ids=category_id)\u001b[39;00m\n\u001b[0;32m     23\u001b[0m \u001b[38;5;66;03m# VideoDAO.update_detail()\u001b[39;00m\n\u001b[0;32m     24\u001b[0m \u001b[38;5;66;03m# VideoDAO.update_is_short()\u001b[39;00m\n\u001b[0;32m     25\u001b[0m \u001b[38;5;66;03m# VideoStatDAO.update_stat(report_period=period, category_id=category_id)\u001b[39;00m\n\u001b[0;32m     26\u001b[0m \u001b[38;5;66;03m# ReportDAO.build(period, category_id)\u001b[39;00m\n",
      "File \u001b[1;32mc:\\Users\\eremi\\Documents\\4. Projects\\2024-07 YTRatings\\yt_fetcher\\app\\channel\\dao.py:161\u001b[0m, in \u001b[0;36mChannelStatDAO.update_stat\u001b[1;34m(cls, report_period, channel_ids, category_id)\u001b[0m\n\u001b[0;32m    153\u001b[0m \u001b[38;5;129m@classmethod\u001b[39m\n\u001b[0;32m    154\u001b[0m \u001b[38;5;28;01mdef\u001b[39;00m \u001b[38;5;21mupdate_stat\u001b[39m(\n\u001b[0;32m    155\u001b[0m     \u001b[38;5;28mcls\u001b[39m,\n\u001b[1;32m   (...)\u001b[0m\n\u001b[0;32m    158\u001b[0m     category_id: \u001b[38;5;28mint\u001b[39m \u001b[38;5;241m=\u001b[39m \u001b[38;5;28;01mNone\u001b[39;00m,\n\u001b[0;32m    159\u001b[0m ):\n\u001b[0;32m    160\u001b[0m     \u001b[38;5;28;01mif\u001b[39;00m \u001b[38;5;129;01mnot\u001b[39;00m channel_ids:\n\u001b[1;32m--> 161\u001b[0m         channel_ids \u001b[38;5;241m=\u001b[39m \u001b[43mChannelDAO\u001b[49m\u001b[38;5;241;43m.\u001b[39;49m\u001b[43mget_ids_wo_stat\u001b[49m\u001b[43m(\u001b[49m\n\u001b[0;32m    162\u001b[0m \u001b[43m            \u001b[49m\u001b[43mreport_period\u001b[49m\u001b[38;5;241;43m=\u001b[39;49m\u001b[43mreport_period\u001b[49m\u001b[43m,\u001b[49m\u001b[43m \u001b[49m\u001b[43mcategory_id\u001b[49m\u001b[38;5;241;43m=\u001b[39;49m\u001b[43mcategory_id\u001b[49m\n\u001b[0;32m    163\u001b[0m \u001b[43m        \u001b[49m\u001b[43m)\u001b[49m\n\u001b[0;32m    165\u001b[0m     data \u001b[38;5;241m=\u001b[39m yt\u001b[38;5;241m.\u001b[39mchannel_list(channel_ids, obj_type\u001b[38;5;241m=\u001b[39m\u001b[38;5;124m\"\u001b[39m\u001b[38;5;124mstat\u001b[39m\u001b[38;5;124m\"\u001b[39m)\n\u001b[0;32m    167\u001b[0m     \u001b[38;5;28;01mif\u001b[39;00m data:\n",
      "File \u001b[1;32mc:\\Users\\eremi\\Documents\\4. Projects\\2024-07 YTRatings\\yt_fetcher\\app\\channel\\dao.py:38\u001b[0m, in \u001b[0;36mChannelDAO.get_ids_wo_stat\u001b[1;34m(cls, report_period, category_id)\u001b[0m\n\u001b[0;32m     29\u001b[0m \u001b[38;5;129m@classmethod\u001b[39m\n\u001b[0;32m     30\u001b[0m \u001b[38;5;28;01mdef\u001b[39;00m \u001b[38;5;21mget_ids_wo_stat\u001b[39m(\n\u001b[0;32m     31\u001b[0m     \u001b[38;5;28mcls\u001b[39m,\n\u001b[1;32m   (...)\u001b[0m\n\u001b[0;32m     34\u001b[0m ):\n\u001b[0;32m     35\u001b[0m     \u001b[38;5;66;03m# TODO replace with alchemy query\u001b[39;00m\n\u001b[0;32m     36\u001b[0m     query \u001b[38;5;241m=\u001b[39m \u001b[38;5;124mf\u001b[39m\u001b[38;5;124m\"\"\"\u001b[39m\u001b[38;5;124mselect distinct c.channel_id\u001b[39m\n\u001b[0;32m     37\u001b[0m \u001b[38;5;124m                from channel as c\u001b[39m\n\u001b[1;32m---> 38\u001b[0m \u001b[38;5;124m                left join channel_stat cs on cs.channel_id = c.channel_id and cs.report_period = \u001b[39m\u001b[38;5;124m'\u001b[39m\u001b[38;5;132;01m{\u001b[39;00m\u001b[43mreport_period\u001b[49m\u001b[38;5;241;43m.\u001b[39;49m\u001b[43mstrf\u001b[49m()\u001b[38;5;132;01m}\u001b[39;00m\u001b[38;5;124m'\u001b[39m\n\u001b[0;32m     39\u001b[0m \u001b[38;5;124m                where cs.id is null and (c.status > 0 or c.status is null)\u001b[39m\n\u001b[0;32m     40\u001b[0m \u001b[38;5;124m            \u001b[39m\u001b[38;5;124m\"\"\"\u001b[39m\n\u001b[0;32m     41\u001b[0m     \u001b[38;5;28;01mif\u001b[39;00m category_id:\n\u001b[0;32m     42\u001b[0m         query \u001b[38;5;241m+\u001b[39m\u001b[38;5;241m=\u001b[39m \u001b[38;5;124mf\u001b[39m\u001b[38;5;124m\"\u001b[39m\u001b[38;5;124m and c.category_id=\u001b[39m\u001b[38;5;132;01m{\u001b[39;00mcategory_id\u001b[38;5;132;01m}\u001b[39;00m\u001b[38;5;124m\"\u001b[39m\n",
      "\u001b[1;31mAttributeError\u001b[0m: 'tuple' object has no attribute 'strf'"
     ]
    }
   ],
   "source": [
    "from app.period.period import Period\n",
    "from app.video.dao import VideoDAO, VideoStatDAO\n",
    "from app.channel.dao import ChannelDAO, ChannelStatDAO\n",
    "from app.report.dao import ReportDAO\n",
    "\n",
    "\n",
    "category_id = 6\n",
    "period = Period(10),\n",
    "\n",
    "## Add new channel\n",
    "# names = \"\"\"@kinopoisk\"\"\".split(\" \")\n",
    "# print(names)\n",
    "# VideoDAO.search_new_by_channel_period(names, period)\n",
    "# print(\"OK\")\n",
    "\n",
    "# for name in names:\n",
    "#     ChannelDAO.search_channel(name, category_id=category_id)\n",
    "res = ChannelDAO.update_detail()\n",
    "\n",
    "## Update data for period\n",
    "res = ChannelStatDAO.update_stat(report_period=period, category_id=category_id)\n",
    "# VideoDAO.search_new_by_category_period(period=period, category_ids=category_id)\n",
    "# VideoDAO.update_detail()\n",
    "# VideoDAO.update_is_short()\n",
    "# VideoStatDAO.update_stat(report_period=period, category_id=category_id)\n",
    "# ReportDAO.build(period, category_id)\n"
   ]
  },
  {
   "cell_type": "code",
   "execution_count": null,
   "id": "c50f1d98",
   "metadata": {},
   "outputs": [
    {
     "name": "stdout",
     "output_type": "stream",
     "text": [
      "27\n",
      "27\n",
      "[{'channel_title': 'Кик Обзор', 'description': 'Хотите быть в курсе самых последних достижений в области технологий? Наш канал — это ваше идеальное место! Мы рассказываем о самых свежих новостях, делаем обзоры на новинки и делимся полезными советами о том, как использовать технологические новшества на максимум. Подписывайтесь, чтобы всегда быть в курсе самых актуальных событий и инноваций, которые меняют наш мир прямо сейчас!', 'id': 267}, {'channel_title': 'Архонт Сибирский', 'description': 'Канал в большей степени посвящён игре EVE Online и игрокам в ней.\\n\\nВ частности большинство контента посвящено людям недавно начавшим играть в этот проект. Мы демонстрируем на стримах и роликах чем можно заниматься в этой игре и на примере показываем этот процесс. \\n\\nЕсли ты хочешь чаще видеть меня в эфире подключайся к нашей команде: В дискорде  https://discord.gg/fABJwFn\\nПоддержи меня на бусти на текущий момент это вопрос выживания канала. *ютуб совсем не плотит денег.=( \\nhttps://boosty.to/arhont_sibirskii\\n\\nУвидимся на стриме. Fly Save\\n', 'id': 281}, {'channel_title': 'iTuber Сообщество Инвесторов', 'description': 'По вопросам сотрудничества: info@ituber.me\\n\\nХОТИТЕ узнать ответы на вопросы: Как заработать в интернете? Как создать прибыльный онлайн бизнес? Куда инвестировать? Как приумножить капитал? Тогда вы в правильном месте! \\n\\nДобро пожаловать на YouTube канал Сообщества Интернет Инвесторов. Чем мы можем быть вам полезны: \\n\\n\\n- еженедельно создаем десятки обучающих роликов по прибыльным проектам в интернете\\n\\n- приглашаем экспертов в области инвестиций, блокчейна и криптовалюты\\n\\n- освещаем перспективные стартапы, ICO, \\n\\n- транслируем актуальные новости с мира финансов \\n\\n- одни из первых находим новые инвестиционные возможности как для небольших инвесторов так и для фондов, компаний и институтов\\n\\n- поддерживаем ценности: открытости, прозрасности, децентрализации и сотрудничества \\n\\n\\nЕсли вы резонируете с тем что мы делаем и хотите развиваться вместе с вами - тогда подписывайтесь на канал. Мы вам рады !', 'id': 273}, {'channel_title': 'Droider', 'description': 'Обзоры смартфонов, гаджетов, просто о науке,технике и космосе, научпоп, интервью и многое другое на самом популярном в Рунете канале о гаджетах Droider!\\nС вами на связи Борис Веденский и Валерий Истишев.\\nПодписывайтесь и до встречи в будущем!\\n\\nПо вопросам рекламы: droider@avtormedia.ru', 'id': 297}, {'channel_title': 'Comedy Club', 'description': 'Добро пожаловать на официальный YouTube канал Comedy Club | Камеди Клаб !\\n\\nВ 2005 году в эфир ТНТ вышел первый выпуск проекта, который за годы своего существования изменил представления о юморе. Сегодня Comedy Club – это больше, чем одно из самых популярных юмористических шоу в стране. Это всегда актуальные темы, эксперименты с жанром и топовые гости. Сотни выпусков, тысячи номеров, миллионы шуток – и это ещё далеко не конец.\\nВ 2017 году Comedy Club получил премию ТЭФИ в номинации «Юмористическая программа».\\n\\n\\nПодписывайся:\\n\\nСайт Comedy Club - http://bit.ly/ComedyClubTNTOnline\\nComedy Club в ТНТ Premier - http://bit.ly/ComedyClubTNTPremier\\nComedy Club ВКонтакте! - https://vk.com/tvcomedy\\nComedy Club в Telegram - https://t.me/comedyclubru\\n', 'id': 296}, {'channel_title': 'stupidmadworld', 'description': 'Техноблог stupidmadworld. Рассказываю о хорошей технике.\\n', 'id': 302}, {'channel_title': 'Andrey istok TV', 'description': 'Канал  Andrey istokTV о домашнем птицеводстве, изготовлении брудера своими руками и клеток для кур несушек и бройлеров, постройке птичника для индеек, инкубации куриных и индюшиных яйц и ещё о многих интересных вещах, связанных с птицеводством.\\n      Меня зовут Андрей, готов общаться с вами и буду рад, если информация  моих видео принесет вам пользу !\\nПодписывайтесь, ставьте лайки и комментируйте. :)Приятного просмотра!\\n ======================\\nLIVE Канал ISTOK https://www.youtube.com/channel/UCNjhorfJsKnnveAfP9GzxeQ\\n==========================\\nТакже присоединяйтесь к нашему Telegram _каналу https://t.me/istoktv\\n==========================\\nПродвижение вашего видео специалистами здесь viboom.com/ru/invite/223983/a/\\n+++++++++++++++++++++++++\\nКаждый новый день ещё один шанс изменить свою жизнь.', 'id': 289}, {'channel_title': 'Павел Пшава', 'description': 'Про инвестиции в криптовалюты', 'id': 300}, {'channel_title': 'КХЛ', 'description': 'Официальный аккаунт Континентальной Хоккейной Лиги (КХЛ) \\n\\nОфициальные трансляции КХЛ, а также хайлайты и моменты игр в режиме онлайн, доступны здесь: https://video.khl.ru\\n\\n\\n', 'id': 294}, {'channel_title': 'Serge_AI', 'description': 'Приветствую тебя на моём канале! \\nКанал посвящён нейронным сетям и сервисам, которые помогут тебе в работе!\\n\\nМне интересна эта тема и я её постоянно изучаю —  самое интересное, на мой взгляд, публикую на этом канале.\\n\\nТемы канала:\\n- Здесь не будет про сложные алгоритмы, веса синапсов и т.д.\\n- Здесь простой контент, простым языком о сервисах созданных на основе нейронных сетей (таких как, например, ChatGPT или Midjourney). \\n- Обучающие видео\\n- Лафхаки\\n\\nБуду рад твоей подписке и лайкам!\\n\\nP.S. Если хватило терпения до сих пор дочитать, то ты входишь в 1% людей, которые способны это сделать. А значит —  всё у тебя будет хорошо!\\n\\n\\n', 'id': 313}, {'channel_title': 'itpedia', 'description': 'Режу правду-матку.\\n\\nЗаходи в плейлисты, однозначно найдешь что-то полезное или веселое.\\n______________________\\nСотрудничество itpedia@plaza.agency', 'id': 293}, {'channel_title': 'Inform', 'description': '', 'id': 338}, {'channel_title': 'БРОКЕН ДЭНС', 'description': 'Меня зовут Николай Редькин, и я рассказываю о музыке при помощи движущихся картинок. \\nМой телеграм-канал: \\nhttps://t.me/brokendance  \\n\\nВк: https://vk.com/broken_dance\\n\\n______________________________\\n\\nРеклама, сотрудничество: broken-ads@yandex.com\\n', 'id': 318}, {'channel_title': 'Нейросети Технологии NeuroAdept Александр Щербинин', 'description': 'Добро пожаловать на канал!\\nС вами Александр Щербинин\\n\\nЗдесь я рассказываю про нейросети. Как они могут помочь вам в работе и обеспечить дополнительным заработком? В каких сферах их можно использовать? Насколько трудно научиться работать с нейросетями? Ответы на все вопросы вы найдете у меня на ютуб канале! \\n\\nПодписываетесь, чтобы не пропустить новые видео! \\n\\nПриятного просмотра! \\n', 'id': 305}, {'channel_title': 'SciOne', 'description': 'Когда-то мы были шумной командой мечталей, желавших изменить других людей и весь мир, рассказывая о науке и технологиях. Для этого мы снимали ученых и старались привлечь к роликам с ними как можно больше внимания. Но менялись мы и мир. Многие ребята отправились за новыми приключениям и преуспели. А кто-то остался. Их имена вы можете видеть в титрах почти в каждом ролике. Среди них я, Влад Гончарук, сооснователь SciOne, в те веселые главный редактор, автор сценариев для всех роликов, где были ведущие, а не ученые. Теперь же -- последний автор и ведущий SciOne.\\n\\nТеперь нас не проведешь мечтой изменить мир роликами на Ютубе. Так зачем продолжать? Когда у нас получалось что-то, оказывалось, мы можем хотя бы на время, пока смотрят наши ролики, менять к лучшему чью-то жизнь: открывать новое, вдохновлять и дарить надежду на прогресс человечества. А когда это получается сделать для других, то же переживаем и мы. И это непередаваемое чувство, ради которого стоит продолжать. Что мы и делаем.\\n', 'id': 304}, {'channel_title': 'Бизнес на Завтрак', 'description': 'Здесь про управление бизнесом \\nИсследования, тренды, инсайды в ТГ https://t.me/BNZlife\\n\\n', 'id': 315}, {'channel_title': 'Dante Infinite', 'description': 'Топы Фильмов, сериалов, мультфильмов, игр. Подборки лучших Моментов из ФИЛЬМОВ!!! СТРИМЫ - Общение с автором канала!\\n\\nПОДПИСЫВАЙТЕСЬ НА МОЙ НОВЫЙ КАНАЛ \"Топы Фильмов от Dante Infinite\" - https://www.youtube.com/channel/UCZ-Be8BMxGjRaKkkjB-usZQ\\n\\nЯ НА BOOSTY - ВЕСЬ ЭКСКЛЮЗИВ ТАМ - https://boosty.to/danteinfinite\\n\\n... Также вступайте в группу, посвящённую книге \"Разум вне Меня\" (https://vk.com/club86178250)! В ней вы найдёте отрывки из книги и массу информации обо всём, что касается расширения сознания и повышения эффективности мозговой деятельности!!! И просто информация о достижениях Науки и Вселенной в целом!!!\\n\\nДля Финансовой Помощи Проекту:\\n\\nhttps://www.donationalerts.com/r/danteinfinite\\n\\nЯндекс Деньги: 410015816429667\\n\\nhttps://money.yandex.ru/to/410015816429667\\n\\n qiwi кошелёк - 4890494400474953', 'id': 317}, {'channel_title': 'АРХИВ ТЕТИ КСЮШИ', 'description': 'Отныне на этом канале выходят вырезки со стримов, реакции и тому подобное :)\\nСмешные монтажи тебе выходят тут https://www.youtube.com/@tetyaksusha\\nА так же проходят стримы на трово тут https://trovo.live/s/TetyaKsusha\\n', 'id': 316}, {'channel_title': 'Первый отдел', 'description': '📢 «Первый отдел» — российский правозащитный проект. Мы — сообщество адвокатов, юристов и журналистов, которые борются за открытость государства и против всевластия спецслужб.\\n\\n1️⃣ Защищаем обвиняемых в государственной измене, шпионаже, а также в экстремистских и террористических преступлениях\\n2️⃣ Представляем интересы объявленных таковыми «нежелательных» организаций, а также объединений и граждан, названных государством «иностранными агентами»\\n3️⃣ Просвещаем в области безопасности\\n4️⃣ Расследуем преступления силовиков\\n5️⃣ Отстаиваем свободу информации\\n6️⃣ Помогаем вам оставаться в безопасности\\n\\nСайт: https://dept.one/\\nОбратиться за помощью: https://t.me/deptonebot/', 'id': 247}, {'channel_title': 'Стинт', 'description': 'Всем привет! Меня зовут Стинт. На этом канале вы можете найти: игровые видео и различные блоги!\\n\\nПо вопросам рекламы и сотрудничества: apwmanager@gmail.com', 'id': 242}, {'channel_title': 'ProTech', 'description': 'Совсем скоро это будет лучший техноканал в YouTube!\\nБлагодаря каналу ProTech вы всегда сможете узнать о технике, лучшем софте и играх для iOS, Android, macOS и Windows, а также событиях высокотехнологичной индустрии нечто большее, чем сухие цифры, яркая обертка, количество полигонов и поверхностное мнение. \\n\\nЯ рассказываю о технике топовых брендов, умной носимой электронике и других высокотехнологичных штуках то, что нужно и полезно знать конечному пользователю, без преукрас, воды и отнимания драгоценного времени. \\n\\nТут вы всегда сможете найти актуальные обзоры смартфонов, планшетов, компьютеров, носимых гаджетов, лучшие новые мобильные игры для iOS и Android, полезные инструкции, обзоры приложений и операционных систем и многое другое!\\n\\nПодпишись чтобы не пропустить новые видео!\\n2f814df9-b447-45f9-9c2e-60e1b15a36c6\\niowxnqlz\\n', 'id': 245}, {'channel_title': 'Уроки рисования Artcolor.Online / Julia Omelchenko', 'description': 'Меня зовут Юлия и я — художник. Рисую цветными карандашами, пастелью и акварелью. На канале вы найдёте обучающие мастер-классы,  короткие версии уроков с моего курса, подробные обзоры арт материалов, советы по выбору карандашей, бумаги и прочих инструментов художника, а также познавательные видео с интересными фактами.\\n\\nТакже у меня есть своя онлайн школа рисования - Artcolor, где за небольшую ежемесячную плату вы получите доступ к полным версиям всех мастер-классов и возможность нарисовать вместе со мной десятки законченных работ, а также узнаете все секреты реалистичного рисования. Обучаясь в моей школе, вы достигнете значительного прогресса в рисовании и сэкономите время и деньги. Моя цель - сделать обучение рисованию доступным для каждого. Поэтому такого соотношения цены, качества и количества уроков, как в школе Artcolor, вы больше нигде не найдёте. Все необходимые ссылки расположены ниже. До встречи на уроках и в новых выпусках!\\n\\n', 'id': 244}, {'channel_title': 'ИНАЧ', 'description': 'Смотрим на вещи ИНАЧЕ! Разбираемся, как устроены люди и мир вокруг них!\\n', 'id': 331}, {'channel_title': '💔 RMT_ANNA', 'description': 'Новинки мира игровой индустрии\\n', 'id': 380}, {'channel_title': 'Новости охоты и не только', 'description': '', 'id': 301}, {'channel_title': 'NedVelka', 'description': 'Предложение о рекламе: https://t.me/nedvel7\\nМой email: nedvel_play@mail.ru\\nМой VK: https://vk.com/id627285295\\n', 'id': 246}, {'channel_title': 'Egor TIMES', 'description': 'Про новейшие AI, технологии и бизнесы будущего!\\n\\n👋 Меня зовут Егор Гончаренко, я предприниматель и стратег, к своим 35 годам создал 15+ компаний, про которые вы возможно слышали, и не собираюсь останавливаться)\\n\\nЭтот канал лучшее место, чтобы узнать про самые новейшие нейросети, AI, бизнесы будущего и лайфхаки для тебя, как в это будущее вписаться и быть там на высоте🔥\\n', 'id': 243}]\n"
     ]
    }
   ],
   "source": [
    "import nest_asyncio\n",
    "nest_asyncio.apply()\n",
    "\n",
    "res = ChannelDAO.find_all(status=None, category_id=7)\n",
    "\n",
    "data = []\n",
    "for item in res:\n",
    "    d = dict(item)\n",
    "    for key in 'category_id channel_id published_at thumbnail_url custom_url status'.split(' '):\n",
    "        d.pop(key, None)\n",
    "    data.append(d)\n",
    "\n",
    "print(len(res))\n",
    "print(len(data))\n",
    "print(data[:40])"
   ]
  },
  {
   "cell_type": "code",
   "execution_count": 12,
   "id": "a02b7c78",
   "metadata": {},
   "outputs": [
    {
     "name": "stdout",
     "output_type": "stream",
     "text": [
      "2024-01-01 2024-02-01\n"
     ]
    }
   ],
   "source": [
    "# report\n",
    "from datetime import date\n",
    "def test(a: tuple[date, date]):\n",
    "    bef, after = a\n",
    "    print(bef, after)\n",
    "    \n",
    "test((date(2024, 1, 1), date(2024, 2, 1)))"
   ]
  },
  {
   "cell_type": "code",
   "execution_count": 14,
   "id": "8c869d80",
   "metadata": {},
   "outputs": [
    {
     "data": {
      "text/plain": [
       "[2, 1]"
      ]
     },
     "execution_count": 14,
     "metadata": {},
     "output_type": "execute_result"
    }
   ],
   "source": [
    "a = [1, 2]\n",
    "a[::-1]"
   ]
  },
  {
   "cell_type": "code",
   "execution_count": null,
   "id": "1b087bf7",
   "metadata": {},
   "outputs": [],
   "source": [
    "\n"
   ]
  },
  {
   "cell_type": "code",
   "execution_count": 9,
   "id": "b8dbe5a6",
   "metadata": {},
   "outputs": [
    {
     "name": "stdout",
     "output_type": "stream",
     "text": [
      "<class 'PIL.ImageFont.FreeTypeFont'>\n"
     ]
    }
   ],
   "source": []
  },
  {
   "cell_type": "code",
   "execution_count": 3,
   "id": "be7dd822",
   "metadata": {},
   "outputs": [],
   "source": []
  },
  {
   "cell_type": "code",
   "execution_count": 3,
   "id": "b73ccada",
   "metadata": {},
   "outputs": [
    {
     "data": {
      "text/plain": [
       "42"
      ]
     },
     "execution_count": 3,
     "metadata": {},
     "output_type": "execute_result"
    }
   ],
   "source": []
  }
 ],
 "metadata": {
  "kernelspec": {
   "display_name": ".venv",
   "language": "python",
   "name": "python3"
  },
  "language_info": {
   "codemirror_mode": {
    "name": "ipython",
    "version": 3
   },
   "file_extension": ".py",
   "mimetype": "text/x-python",
   "name": "python",
   "nbconvert_exporter": "python",
   "pygments_lexer": "ipython3",
   "version": "3.12.2"
  }
 },
 "nbformat": 4,
 "nbformat_minor": 5
}
