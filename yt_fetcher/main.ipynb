{
 "cells": [
  {
   "cell_type": "code",
   "execution_count": 1,
   "id": "d40e7f68",
   "metadata": {},
   "outputs": [],
   "source": [
    "from app.period import Period\n",
    "from app.channel import ChannelDAO, ChannelStatDAO, VideoDAO, VideoStatDAO\n",
    "from app.report import ReportDAO\n",
    "import nest_asyncio\n",
    "nest_asyncio.apply()\n",
    "\n",
    "\n",
    "category_id = 5\n",
    "period = Period(12, 2024)\n",
    "\n",
    "## Add new channel\n",
    "# names = \"\"\"@kinopoisk\"\"\".split(\" \")\n",
    "# print(names)\n",
    "# VideoDAO.search_new_by_channel_period(names, period)\n",
    "# print(\"OK\")\n",
    "\n",
    "# for name in names:\n",
    "#     ChannelDAO.search_channel(name, category_id=category_id)\n",
    "# res = ChannelDAO.update_detail()\n",
    "\n",
    "## Update data for period\n",
    "# res = ChannelStatDAO.update_stat(report_period=period, category_id=category_id)\n",
    "# VideoDAO.search_new_by_category_period(period=period, category_ids=category_id)\n",
    "# VideoDAO.update_detail()\n",
    "# VideoDAO.update_is_short()\n",
    "# VideoStatDAO.update_stat(report_period=period, category_id=category_id)\n",
    "# ReportDAO.build(period, category_id)\n",
    "\n",
    "# from app.report.tools import gen_script, render_info_pic\n",
    "\n",
    "# tmpl_file = \"../video_gen/templates/script_tmpl_auto_short.txt\"\n",
    "# output_file = \"../video_gen/2024-10/Авто/script.txt\"\n",
    "# report = await ReportDAO.get(period, category_id)\n",
    "# data = report.data\n",
    "\n",
    "# gen_script(report.data, tmpl_file, output_file)\n",
    "\n",
    "# for item in data[:1]:\n",
    "#     render_info_pic(report.period, report.category.name, item, 0)\n",
    "\n",
    "\n"
   ]
  },
  {
   "cell_type": "code",
   "execution_count": 2,
   "id": "c50f1d98",
   "metadata": {},
   "outputs": [
    {
     "name": "stdout",
     "output_type": "stream",
     "text": [
      "6578\n"
     ]
    },
    {
     "ename": "CancelledError",
     "evalue": "",
     "output_type": "error",
     "traceback": [
      "\u001b[1;31m---------------------------------------------------------------------------\u001b[0m",
      "\u001b[1;31mCancelledError\u001b[0m                            Traceback (most recent call last)",
      "Cell \u001b[1;32mIn[2], line 39\u001b[0m\n\u001b[0;32m     37\u001b[0m data \u001b[38;5;241m=\u001b[39m json_data[i:(i\u001b[38;5;241m+\u001b[39mLIMIT)]\n\u001b[0;32m     38\u001b[0m \u001b[38;5;66;03m# res = await VideoStatDAO.add_bulk(data)\u001b[39;00m\n\u001b[1;32m---> 39\u001b[0m res \u001b[38;5;241m=\u001b[39m \u001b[38;5;28;01mawait\u001b[39;00m VideoDAO\u001b[38;5;241m.\u001b[39mupdate_bulk(data)\n\u001b[0;32m     40\u001b[0m \u001b[38;5;28;01mif\u001b[39;00m res: \u001b[38;5;28mprint\u001b[39m(\u001b[38;5;124mf\u001b[39m\u001b[38;5;124m\"\u001b[39m\u001b[38;5;132;01m{\u001b[39;00mi\u001b[38;5;132;01m}\u001b[39;00m\u001b[38;5;124m/\u001b[39m\u001b[38;5;132;01m{\u001b[39;00m\u001b[38;5;28mlen\u001b[39m(json_data)\u001b[38;5;132;01m}\u001b[39;00m\u001b[38;5;124m\"\u001b[39m)\n",
      "File \u001b[1;32mc:\\Users\\eremi\\Documents\\4. Projects\\2024-07 YTRatings\\yt_fetcher\\app\\dao\\base.py:158\u001b[0m, in \u001b[0;36mBaseDAO.update_bulk\u001b[1;34m(cls, data, identifier)\u001b[0m\n\u001b[0;32m    151\u001b[0m         \u001b[38;5;28;01mraise\u001b[39;00m \u001b[38;5;167;01mException\u001b[39;00m(\u001b[38;5;124mf\u001b[39m\u001b[38;5;124m\"\u001b[39m\u001b[38;5;132;01m{\u001b[39;00midentifier\u001b[38;5;132;01m}\u001b[39;00m\u001b[38;5;124m is not in data\u001b[39m\u001b[38;5;124m\"\u001b[39m)\n\u001b[0;32m    152\u001b[0m     query \u001b[38;5;241m=\u001b[39m (\n\u001b[0;32m    153\u001b[0m         update(\u001b[38;5;28mcls\u001b[39m\u001b[38;5;241m.\u001b[39mmodel)\n\u001b[0;32m    154\u001b[0m         \u001b[38;5;241m.\u001b[39mfilter_by(\u001b[38;5;241m*\u001b[39m\u001b[38;5;241m*\u001b[39m{identifier: \u001b[38;5;28mid\u001b[39m})\n\u001b[0;32m    155\u001b[0m         \u001b[38;5;241m.\u001b[39mvalues(record)\n\u001b[0;32m    156\u001b[0m         \u001b[38;5;241m.\u001b[39mreturning(\u001b[38;5;28mcls\u001b[39m\u001b[38;5;241m.\u001b[39mmodel\u001b[38;5;241m.\u001b[39mid)\n\u001b[0;32m    157\u001b[0m     )\n\u001b[1;32m--> 158\u001b[0m     \u001b[38;5;28;01mawait\u001b[39;00m session\u001b[38;5;241m.\u001b[39mexecute(query)\n\u001b[0;32m    159\u001b[0m     \u001b[38;5;66;03m# result = await session.execute(query)\u001b[39;00m\n\u001b[0;32m    160\u001b[0m \u001b[38;5;28;01mawait\u001b[39;00m session\u001b[38;5;241m.\u001b[39mcommit()\n",
      "File \u001b[1;32mc:\\Users\\eremi\\Documents\\4. Projects\\2024-07 YTRatings\\yt_fetcher\\.venv\\Lib\\site-packages\\sqlalchemy\\ext\\asyncio\\session.py:461\u001b[0m, in \u001b[0;36mAsyncSession.execute\u001b[1;34m(self, statement, params, execution_options, bind_arguments, **kw)\u001b[0m\n\u001b[0;32m    458\u001b[0m \u001b[38;5;28;01melse\u001b[39;00m:\n\u001b[0;32m    459\u001b[0m     execution_options \u001b[38;5;241m=\u001b[39m _EXECUTE_OPTIONS\n\u001b[1;32m--> 461\u001b[0m result \u001b[38;5;241m=\u001b[39m \u001b[38;5;28;01mawait\u001b[39;00m greenlet_spawn(\n\u001b[0;32m    462\u001b[0m     \u001b[38;5;28mself\u001b[39m\u001b[38;5;241m.\u001b[39msync_session\u001b[38;5;241m.\u001b[39mexecute,\n\u001b[0;32m    463\u001b[0m     statement,\n\u001b[0;32m    464\u001b[0m     params\u001b[38;5;241m=\u001b[39mparams,\n\u001b[0;32m    465\u001b[0m     execution_options\u001b[38;5;241m=\u001b[39mexecution_options,\n\u001b[0;32m    466\u001b[0m     bind_arguments\u001b[38;5;241m=\u001b[39mbind_arguments,\n\u001b[0;32m    467\u001b[0m     \u001b[38;5;241m*\u001b[39m\u001b[38;5;241m*\u001b[39mkw,\n\u001b[0;32m    468\u001b[0m )\n\u001b[0;32m    469\u001b[0m \u001b[38;5;28;01mreturn\u001b[39;00m \u001b[38;5;28;01mawait\u001b[39;00m _ensure_sync_result(result, \u001b[38;5;28mself\u001b[39m\u001b[38;5;241m.\u001b[39mexecute)\n",
      "File \u001b[1;32mc:\\Users\\eremi\\Documents\\4. Projects\\2024-07 YTRatings\\yt_fetcher\\.venv\\Lib\\site-packages\\sqlalchemy\\util\\_concurrency_py3k.py:203\u001b[0m, in \u001b[0;36mgreenlet_spawn\u001b[1;34m(fn, _require_await, *args, **kwargs)\u001b[0m\n\u001b[0;32m    201\u001b[0m         result \u001b[38;5;241m=\u001b[39m context\u001b[38;5;241m.\u001b[39mthrow(\u001b[38;5;241m*\u001b[39msys\u001b[38;5;241m.\u001b[39mexc_info())\n\u001b[0;32m    202\u001b[0m     \u001b[38;5;28;01melse\u001b[39;00m:\n\u001b[1;32m--> 203\u001b[0m         result \u001b[38;5;241m=\u001b[39m \u001b[43mcontext\u001b[49m\u001b[38;5;241;43m.\u001b[39;49m\u001b[43mswitch\u001b[49m\u001b[43m(\u001b[49m\u001b[43mvalue\u001b[49m\u001b[43m)\u001b[49m\n\u001b[0;32m    205\u001b[0m \u001b[38;5;28;01mif\u001b[39;00m _require_await \u001b[38;5;129;01mand\u001b[39;00m \u001b[38;5;129;01mnot\u001b[39;00m switch_occurred:\n\u001b[0;32m    206\u001b[0m     \u001b[38;5;28;01mraise\u001b[39;00m exc\u001b[38;5;241m.\u001b[39mAwaitRequired(\n\u001b[0;32m    207\u001b[0m         \u001b[38;5;124m\"\u001b[39m\u001b[38;5;124mThe current operation required an async execution but none was \u001b[39m\u001b[38;5;124m\"\u001b[39m\n\u001b[0;32m    208\u001b[0m         \u001b[38;5;124m\"\u001b[39m\u001b[38;5;124mdetected. This will usually happen when using a non compatible \u001b[39m\u001b[38;5;124m\"\u001b[39m\n\u001b[0;32m    209\u001b[0m         \u001b[38;5;124m\"\u001b[39m\u001b[38;5;124mDBAPI driver. Please ensure that an async DBAPI is used.\u001b[39m\u001b[38;5;124m\"\u001b[39m\n\u001b[0;32m    210\u001b[0m     )\n",
      "File \u001b[1;32mc:\\Users\\eremi\\Documents\\4. Projects\\2024-07 YTRatings\\yt_fetcher\\.venv\\Lib\\site-packages\\sqlalchemy\\orm\\session.py:2362\u001b[0m, in \u001b[0;36mSession.execute\u001b[1;34m(self, statement, params, execution_options, bind_arguments, _parent_execute_state, _add_event)\u001b[0m\n\u001b[0;32m   2301\u001b[0m \u001b[38;5;28;01mdef\u001b[39;00m \u001b[38;5;21mexecute\u001b[39m(\n\u001b[0;32m   2302\u001b[0m     \u001b[38;5;28mself\u001b[39m,\n\u001b[0;32m   2303\u001b[0m     statement: Executable,\n\u001b[1;32m   (...)\u001b[0m\n\u001b[0;32m   2309\u001b[0m     _add_event: Optional[Any] \u001b[38;5;241m=\u001b[39m \u001b[38;5;28;01mNone\u001b[39;00m,\n\u001b[0;32m   2310\u001b[0m ) \u001b[38;5;241m-\u001b[39m\u001b[38;5;241m>\u001b[39m Result[Any]:\n\u001b[0;32m   2311\u001b[0m \u001b[38;5;250m    \u001b[39m\u001b[38;5;124mr\u001b[39m\u001b[38;5;124;03m\"\"\"Execute a SQL expression construct.\u001b[39;00m\n\u001b[0;32m   2312\u001b[0m \n\u001b[0;32m   2313\u001b[0m \u001b[38;5;124;03m    Returns a :class:`_engine.Result` object representing\u001b[39;00m\n\u001b[1;32m   (...)\u001b[0m\n\u001b[0;32m   2360\u001b[0m \n\u001b[0;32m   2361\u001b[0m \u001b[38;5;124;03m    \"\"\"\u001b[39;00m\n\u001b[1;32m-> 2362\u001b[0m     \u001b[38;5;28;01mreturn\u001b[39;00m \u001b[38;5;28;43mself\u001b[39;49m\u001b[38;5;241;43m.\u001b[39;49m\u001b[43m_execute_internal\u001b[49m\u001b[43m(\u001b[49m\n\u001b[0;32m   2363\u001b[0m \u001b[43m        \u001b[49m\u001b[43mstatement\u001b[49m\u001b[43m,\u001b[49m\n\u001b[0;32m   2364\u001b[0m \u001b[43m        \u001b[49m\u001b[43mparams\u001b[49m\u001b[43m,\u001b[49m\n\u001b[0;32m   2365\u001b[0m \u001b[43m        \u001b[49m\u001b[43mexecution_options\u001b[49m\u001b[38;5;241;43m=\u001b[39;49m\u001b[43mexecution_options\u001b[49m\u001b[43m,\u001b[49m\n\u001b[0;32m   2366\u001b[0m \u001b[43m        \u001b[49m\u001b[43mbind_arguments\u001b[49m\u001b[38;5;241;43m=\u001b[39;49m\u001b[43mbind_arguments\u001b[49m\u001b[43m,\u001b[49m\n\u001b[0;32m   2367\u001b[0m \u001b[43m        \u001b[49m\u001b[43m_parent_execute_state\u001b[49m\u001b[38;5;241;43m=\u001b[39;49m\u001b[43m_parent_execute_state\u001b[49m\u001b[43m,\u001b[49m\n\u001b[0;32m   2368\u001b[0m \u001b[43m        \u001b[49m\u001b[43m_add_event\u001b[49m\u001b[38;5;241;43m=\u001b[39;49m\u001b[43m_add_event\u001b[49m\u001b[43m,\u001b[49m\n\u001b[0;32m   2369\u001b[0m \u001b[43m    \u001b[49m\u001b[43m)\u001b[49m\n",
      "File \u001b[1;32mc:\\Users\\eremi\\Documents\\4. Projects\\2024-07 YTRatings\\yt_fetcher\\.venv\\Lib\\site-packages\\sqlalchemy\\orm\\session.py:2247\u001b[0m, in \u001b[0;36mSession._execute_internal\u001b[1;34m(self, statement, params, execution_options, bind_arguments, _parent_execute_state, _add_event, _scalar_result)\u001b[0m\n\u001b[0;32m   2242\u001b[0m     \u001b[38;5;28;01mreturn\u001b[39;00m conn\u001b[38;5;241m.\u001b[39mscalar(\n\u001b[0;32m   2243\u001b[0m         statement, params \u001b[38;5;129;01mor\u001b[39;00m {}, execution_options\u001b[38;5;241m=\u001b[39mexecution_options\n\u001b[0;32m   2244\u001b[0m     )\n\u001b[0;32m   2246\u001b[0m \u001b[38;5;28;01mif\u001b[39;00m compile_state_cls:\n\u001b[1;32m-> 2247\u001b[0m     result: Result[Any] \u001b[38;5;241m=\u001b[39m \u001b[43mcompile_state_cls\u001b[49m\u001b[38;5;241;43m.\u001b[39;49m\u001b[43morm_execute_statement\u001b[49m\u001b[43m(\u001b[49m\n\u001b[0;32m   2248\u001b[0m \u001b[43m        \u001b[49m\u001b[38;5;28;43mself\u001b[39;49m\u001b[43m,\u001b[49m\n\u001b[0;32m   2249\u001b[0m \u001b[43m        \u001b[49m\u001b[43mstatement\u001b[49m\u001b[43m,\u001b[49m\n\u001b[0;32m   2250\u001b[0m \u001b[43m        \u001b[49m\u001b[43mparams\u001b[49m\u001b[43m \u001b[49m\u001b[38;5;129;43;01mor\u001b[39;49;00m\u001b[43m \u001b[49m\u001b[43m{\u001b[49m\u001b[43m}\u001b[49m\u001b[43m,\u001b[49m\n\u001b[0;32m   2251\u001b[0m \u001b[43m        \u001b[49m\u001b[43mexecution_options\u001b[49m\u001b[43m,\u001b[49m\n\u001b[0;32m   2252\u001b[0m \u001b[43m        \u001b[49m\u001b[43mbind_arguments\u001b[49m\u001b[43m,\u001b[49m\n\u001b[0;32m   2253\u001b[0m \u001b[43m        \u001b[49m\u001b[43mconn\u001b[49m\u001b[43m,\u001b[49m\n\u001b[0;32m   2254\u001b[0m \u001b[43m    \u001b[49m\u001b[43m)\u001b[49m\n\u001b[0;32m   2255\u001b[0m \u001b[38;5;28;01melse\u001b[39;00m:\n\u001b[0;32m   2256\u001b[0m     result \u001b[38;5;241m=\u001b[39m conn\u001b[38;5;241m.\u001b[39mexecute(\n\u001b[0;32m   2257\u001b[0m         statement, params \u001b[38;5;129;01mor\u001b[39;00m {}, execution_options\u001b[38;5;241m=\u001b[39mexecution_options\n\u001b[0;32m   2258\u001b[0m     )\n",
      "File \u001b[1;32mc:\\Users\\eremi\\Documents\\4. Projects\\2024-07 YTRatings\\yt_fetcher\\.venv\\Lib\\site-packages\\sqlalchemy\\orm\\bulk_persistence.py:1649\u001b[0m, in \u001b[0;36mBulkORMUpdate.orm_execute_statement\u001b[1;34m(cls, session, statement, params, execution_options, bind_arguments, conn)\u001b[0m\n\u001b[0;32m   1640\u001b[0m     \u001b[38;5;28;01mreturn\u001b[39;00m \u001b[38;5;28mcls\u001b[39m\u001b[38;5;241m.\u001b[39morm_setup_cursor_result(\n\u001b[0;32m   1641\u001b[0m         session,\n\u001b[0;32m   1642\u001b[0m         statement,\n\u001b[1;32m   (...)\u001b[0m\n\u001b[0;32m   1646\u001b[0m         result,\n\u001b[0;32m   1647\u001b[0m     )\n\u001b[0;32m   1648\u001b[0m \u001b[38;5;28;01melse\u001b[39;00m:\n\u001b[1;32m-> 1649\u001b[0m     \u001b[38;5;28;01mreturn\u001b[39;00m \u001b[38;5;28;43msuper\u001b[39;49m\u001b[43m(\u001b[49m\u001b[43m)\u001b[49m\u001b[38;5;241;43m.\u001b[39;49m\u001b[43morm_execute_statement\u001b[49m\u001b[43m(\u001b[49m\n\u001b[0;32m   1650\u001b[0m \u001b[43m        \u001b[49m\u001b[43msession\u001b[49m\u001b[43m,\u001b[49m\n\u001b[0;32m   1651\u001b[0m \u001b[43m        \u001b[49m\u001b[43mstatement\u001b[49m\u001b[43m,\u001b[49m\n\u001b[0;32m   1652\u001b[0m \u001b[43m        \u001b[49m\u001b[43mparams\u001b[49m\u001b[43m,\u001b[49m\n\u001b[0;32m   1653\u001b[0m \u001b[43m        \u001b[49m\u001b[43mexecution_options\u001b[49m\u001b[43m,\u001b[49m\n\u001b[0;32m   1654\u001b[0m \u001b[43m        \u001b[49m\u001b[43mbind_arguments\u001b[49m\u001b[43m,\u001b[49m\n\u001b[0;32m   1655\u001b[0m \u001b[43m        \u001b[49m\u001b[43mconn\u001b[49m\u001b[43m,\u001b[49m\n\u001b[0;32m   1656\u001b[0m \u001b[43m    \u001b[49m\u001b[43m)\u001b[49m\n",
      "File \u001b[1;32mc:\\Users\\eremi\\Documents\\4. Projects\\2024-07 YTRatings\\yt_fetcher\\.venv\\Lib\\site-packages\\sqlalchemy\\orm\\context.py:293\u001b[0m, in \u001b[0;36mAbstractORMCompileState.orm_execute_statement\u001b[1;34m(cls, session, statement, params, execution_options, bind_arguments, conn)\u001b[0m\n\u001b[0;32m    283\u001b[0m \u001b[38;5;129m@classmethod\u001b[39m\n\u001b[0;32m    284\u001b[0m \u001b[38;5;28;01mdef\u001b[39;00m \u001b[38;5;21morm_execute_statement\u001b[39m(\n\u001b[0;32m    285\u001b[0m     \u001b[38;5;28mcls\u001b[39m,\n\u001b[1;32m   (...)\u001b[0m\n\u001b[0;32m    291\u001b[0m     conn,\n\u001b[0;32m    292\u001b[0m ) \u001b[38;5;241m-\u001b[39m\u001b[38;5;241m>\u001b[39m Result:\n\u001b[1;32m--> 293\u001b[0m     result \u001b[38;5;241m=\u001b[39m \u001b[43mconn\u001b[49m\u001b[38;5;241;43m.\u001b[39;49m\u001b[43mexecute\u001b[49m\u001b[43m(\u001b[49m\n\u001b[0;32m    294\u001b[0m \u001b[43m        \u001b[49m\u001b[43mstatement\u001b[49m\u001b[43m,\u001b[49m\u001b[43m \u001b[49m\u001b[43mparams\u001b[49m\u001b[43m \u001b[49m\u001b[38;5;129;43;01mor\u001b[39;49;00m\u001b[43m \u001b[49m\u001b[43m{\u001b[49m\u001b[43m}\u001b[49m\u001b[43m,\u001b[49m\u001b[43m \u001b[49m\u001b[43mexecution_options\u001b[49m\u001b[38;5;241;43m=\u001b[39;49m\u001b[43mexecution_options\u001b[49m\n\u001b[0;32m    295\u001b[0m \u001b[43m    \u001b[49m\u001b[43m)\u001b[49m\n\u001b[0;32m    296\u001b[0m     \u001b[38;5;28;01mreturn\u001b[39;00m \u001b[38;5;28mcls\u001b[39m\u001b[38;5;241m.\u001b[39morm_setup_cursor_result(\n\u001b[0;32m    297\u001b[0m         session,\n\u001b[0;32m    298\u001b[0m         statement,\n\u001b[1;32m   (...)\u001b[0m\n\u001b[0;32m    302\u001b[0m         result,\n\u001b[0;32m    303\u001b[0m     )\n",
      "File \u001b[1;32mc:\\Users\\eremi\\Documents\\4. Projects\\2024-07 YTRatings\\yt_fetcher\\.venv\\Lib\\site-packages\\sqlalchemy\\engine\\base.py:1418\u001b[0m, in \u001b[0;36mConnection.execute\u001b[1;34m(self, statement, parameters, execution_options)\u001b[0m\n\u001b[0;32m   1416\u001b[0m     \u001b[38;5;28;01mraise\u001b[39;00m exc\u001b[38;5;241m.\u001b[39mObjectNotExecutableError(statement) \u001b[38;5;28;01mfrom\u001b[39;00m \u001b[38;5;21;01merr\u001b[39;00m\n\u001b[0;32m   1417\u001b[0m \u001b[38;5;28;01melse\u001b[39;00m:\n\u001b[1;32m-> 1418\u001b[0m     \u001b[38;5;28;01mreturn\u001b[39;00m \u001b[43mmeth\u001b[49m\u001b[43m(\u001b[49m\n\u001b[0;32m   1419\u001b[0m \u001b[43m        \u001b[49m\u001b[38;5;28;43mself\u001b[39;49m\u001b[43m,\u001b[49m\n\u001b[0;32m   1420\u001b[0m \u001b[43m        \u001b[49m\u001b[43mdistilled_parameters\u001b[49m\u001b[43m,\u001b[49m\n\u001b[0;32m   1421\u001b[0m \u001b[43m        \u001b[49m\u001b[43mexecution_options\u001b[49m\u001b[43m \u001b[49m\u001b[38;5;129;43;01mor\u001b[39;49;00m\u001b[43m \u001b[49m\u001b[43mNO_OPTIONS\u001b[49m\u001b[43m,\u001b[49m\n\u001b[0;32m   1422\u001b[0m \u001b[43m    \u001b[49m\u001b[43m)\u001b[49m\n",
      "File \u001b[1;32mc:\\Users\\eremi\\Documents\\4. Projects\\2024-07 YTRatings\\yt_fetcher\\.venv\\Lib\\site-packages\\sqlalchemy\\sql\\elements.py:515\u001b[0m, in \u001b[0;36mClauseElement._execute_on_connection\u001b[1;34m(self, connection, distilled_params, execution_options)\u001b[0m\n\u001b[0;32m    513\u001b[0m     \u001b[38;5;28;01mif\u001b[39;00m TYPE_CHECKING:\n\u001b[0;32m    514\u001b[0m         \u001b[38;5;28;01massert\u001b[39;00m \u001b[38;5;28misinstance\u001b[39m(\u001b[38;5;28mself\u001b[39m, Executable)\n\u001b[1;32m--> 515\u001b[0m     \u001b[38;5;28;01mreturn\u001b[39;00m \u001b[43mconnection\u001b[49m\u001b[38;5;241;43m.\u001b[39;49m\u001b[43m_execute_clauseelement\u001b[49m\u001b[43m(\u001b[49m\n\u001b[0;32m    516\u001b[0m \u001b[43m        \u001b[49m\u001b[38;5;28;43mself\u001b[39;49m\u001b[43m,\u001b[49m\u001b[43m \u001b[49m\u001b[43mdistilled_params\u001b[49m\u001b[43m,\u001b[49m\u001b[43m \u001b[49m\u001b[43mexecution_options\u001b[49m\n\u001b[0;32m    517\u001b[0m \u001b[43m    \u001b[49m\u001b[43m)\u001b[49m\n\u001b[0;32m    518\u001b[0m \u001b[38;5;28;01melse\u001b[39;00m:\n\u001b[0;32m    519\u001b[0m     \u001b[38;5;28;01mraise\u001b[39;00m exc\u001b[38;5;241m.\u001b[39mObjectNotExecutableError(\u001b[38;5;28mself\u001b[39m)\n",
      "File \u001b[1;32mc:\\Users\\eremi\\Documents\\4. Projects\\2024-07 YTRatings\\yt_fetcher\\.venv\\Lib\\site-packages\\sqlalchemy\\engine\\base.py:1640\u001b[0m, in \u001b[0;36mConnection._execute_clauseelement\u001b[1;34m(self, elem, distilled_parameters, execution_options)\u001b[0m\n\u001b[0;32m   1628\u001b[0m compiled_cache: Optional[CompiledCacheType] \u001b[38;5;241m=\u001b[39m execution_options\u001b[38;5;241m.\u001b[39mget(\n\u001b[0;32m   1629\u001b[0m     \u001b[38;5;124m\"\u001b[39m\u001b[38;5;124mcompiled_cache\u001b[39m\u001b[38;5;124m\"\u001b[39m, \u001b[38;5;28mself\u001b[39m\u001b[38;5;241m.\u001b[39mengine\u001b[38;5;241m.\u001b[39m_compiled_cache\n\u001b[0;32m   1630\u001b[0m )\n\u001b[0;32m   1632\u001b[0m compiled_sql, extracted_params, cache_hit \u001b[38;5;241m=\u001b[39m elem\u001b[38;5;241m.\u001b[39m_compile_w_cache(\n\u001b[0;32m   1633\u001b[0m     dialect\u001b[38;5;241m=\u001b[39mdialect,\n\u001b[0;32m   1634\u001b[0m     compiled_cache\u001b[38;5;241m=\u001b[39mcompiled_cache,\n\u001b[1;32m   (...)\u001b[0m\n\u001b[0;32m   1638\u001b[0m     linting\u001b[38;5;241m=\u001b[39m\u001b[38;5;28mself\u001b[39m\u001b[38;5;241m.\u001b[39mdialect\u001b[38;5;241m.\u001b[39mcompiler_linting \u001b[38;5;241m|\u001b[39m compiler\u001b[38;5;241m.\u001b[39mWARN_LINTING,\n\u001b[0;32m   1639\u001b[0m )\n\u001b[1;32m-> 1640\u001b[0m ret \u001b[38;5;241m=\u001b[39m \u001b[38;5;28;43mself\u001b[39;49m\u001b[38;5;241;43m.\u001b[39;49m\u001b[43m_execute_context\u001b[49m\u001b[43m(\u001b[49m\n\u001b[0;32m   1641\u001b[0m \u001b[43m    \u001b[49m\u001b[43mdialect\u001b[49m\u001b[43m,\u001b[49m\n\u001b[0;32m   1642\u001b[0m \u001b[43m    \u001b[49m\u001b[43mdialect\u001b[49m\u001b[38;5;241;43m.\u001b[39;49m\u001b[43mexecution_ctx_cls\u001b[49m\u001b[38;5;241;43m.\u001b[39;49m\u001b[43m_init_compiled\u001b[49m\u001b[43m,\u001b[49m\n\u001b[0;32m   1643\u001b[0m \u001b[43m    \u001b[49m\u001b[43mcompiled_sql\u001b[49m\u001b[43m,\u001b[49m\n\u001b[0;32m   1644\u001b[0m \u001b[43m    \u001b[49m\u001b[43mdistilled_parameters\u001b[49m\u001b[43m,\u001b[49m\n\u001b[0;32m   1645\u001b[0m \u001b[43m    \u001b[49m\u001b[43mexecution_options\u001b[49m\u001b[43m,\u001b[49m\n\u001b[0;32m   1646\u001b[0m \u001b[43m    \u001b[49m\u001b[43mcompiled_sql\u001b[49m\u001b[43m,\u001b[49m\n\u001b[0;32m   1647\u001b[0m \u001b[43m    \u001b[49m\u001b[43mdistilled_parameters\u001b[49m\u001b[43m,\u001b[49m\n\u001b[0;32m   1648\u001b[0m \u001b[43m    \u001b[49m\u001b[43melem\u001b[49m\u001b[43m,\u001b[49m\n\u001b[0;32m   1649\u001b[0m \u001b[43m    \u001b[49m\u001b[43mextracted_params\u001b[49m\u001b[43m,\u001b[49m\n\u001b[0;32m   1650\u001b[0m \u001b[43m    \u001b[49m\u001b[43mcache_hit\u001b[49m\u001b[38;5;241;43m=\u001b[39;49m\u001b[43mcache_hit\u001b[49m\u001b[43m,\u001b[49m\n\u001b[0;32m   1651\u001b[0m \u001b[43m\u001b[49m\u001b[43m)\u001b[49m\n\u001b[0;32m   1652\u001b[0m \u001b[38;5;28;01mif\u001b[39;00m has_events:\n\u001b[0;32m   1653\u001b[0m     \u001b[38;5;28mself\u001b[39m\u001b[38;5;241m.\u001b[39mdispatch\u001b[38;5;241m.\u001b[39mafter_execute(\n\u001b[0;32m   1654\u001b[0m         \u001b[38;5;28mself\u001b[39m,\n\u001b[0;32m   1655\u001b[0m         elem,\n\u001b[1;32m   (...)\u001b[0m\n\u001b[0;32m   1659\u001b[0m         ret,\n\u001b[0;32m   1660\u001b[0m     )\n",
      "File \u001b[1;32mc:\\Users\\eremi\\Documents\\4. Projects\\2024-07 YTRatings\\yt_fetcher\\.venv\\Lib\\site-packages\\sqlalchemy\\engine\\base.py:1846\u001b[0m, in \u001b[0;36mConnection._execute_context\u001b[1;34m(self, dialect, constructor, statement, parameters, execution_options, *args, **kw)\u001b[0m\n\u001b[0;32m   1844\u001b[0m     \u001b[38;5;28;01mreturn\u001b[39;00m \u001b[38;5;28mself\u001b[39m\u001b[38;5;241m.\u001b[39m_exec_insertmany_context(dialect, context)\n\u001b[0;32m   1845\u001b[0m \u001b[38;5;28;01melse\u001b[39;00m:\n\u001b[1;32m-> 1846\u001b[0m     \u001b[38;5;28;01mreturn\u001b[39;00m \u001b[38;5;28;43mself\u001b[39;49m\u001b[38;5;241;43m.\u001b[39;49m\u001b[43m_exec_single_context\u001b[49m\u001b[43m(\u001b[49m\n\u001b[0;32m   1847\u001b[0m \u001b[43m        \u001b[49m\u001b[43mdialect\u001b[49m\u001b[43m,\u001b[49m\u001b[43m \u001b[49m\u001b[43mcontext\u001b[49m\u001b[43m,\u001b[49m\u001b[43m \u001b[49m\u001b[43mstatement\u001b[49m\u001b[43m,\u001b[49m\u001b[43m \u001b[49m\u001b[43mparameters\u001b[49m\n\u001b[0;32m   1848\u001b[0m \u001b[43m    \u001b[49m\u001b[43m)\u001b[49m\n",
      "File \u001b[1;32mc:\\Users\\eremi\\Documents\\4. Projects\\2024-07 YTRatings\\yt_fetcher\\.venv\\Lib\\site-packages\\sqlalchemy\\engine\\base.py:1986\u001b[0m, in \u001b[0;36mConnection._exec_single_context\u001b[1;34m(self, dialect, context, statement, parameters)\u001b[0m\n\u001b[0;32m   1983\u001b[0m     result \u001b[38;5;241m=\u001b[39m context\u001b[38;5;241m.\u001b[39m_setup_result_proxy()\n\u001b[0;32m   1985\u001b[0m \u001b[38;5;28;01mexcept\u001b[39;00m \u001b[38;5;167;01mBaseException\u001b[39;00m \u001b[38;5;28;01mas\u001b[39;00m e:\n\u001b[1;32m-> 1986\u001b[0m     \u001b[38;5;28;43mself\u001b[39;49m\u001b[38;5;241;43m.\u001b[39;49m\u001b[43m_handle_dbapi_exception\u001b[49m\u001b[43m(\u001b[49m\n\u001b[0;32m   1987\u001b[0m \u001b[43m        \u001b[49m\u001b[43me\u001b[49m\u001b[43m,\u001b[49m\u001b[43m \u001b[49m\u001b[43mstr_statement\u001b[49m\u001b[43m,\u001b[49m\u001b[43m \u001b[49m\u001b[43meffective_parameters\u001b[49m\u001b[43m,\u001b[49m\u001b[43m \u001b[49m\u001b[43mcursor\u001b[49m\u001b[43m,\u001b[49m\u001b[43m \u001b[49m\u001b[43mcontext\u001b[49m\n\u001b[0;32m   1988\u001b[0m \u001b[43m    \u001b[49m\u001b[43m)\u001b[49m\n\u001b[0;32m   1990\u001b[0m \u001b[38;5;28;01mreturn\u001b[39;00m result\n",
      "File \u001b[1;32mc:\\Users\\eremi\\Documents\\4. Projects\\2024-07 YTRatings\\yt_fetcher\\.venv\\Lib\\site-packages\\sqlalchemy\\engine\\base.py:2358\u001b[0m, in \u001b[0;36mConnection._handle_dbapi_exception\u001b[1;34m(self, e, statement, parameters, cursor, context, is_sub_exec)\u001b[0m\n\u001b[0;32m   2356\u001b[0m     \u001b[38;5;28;01melse\u001b[39;00m:\n\u001b[0;32m   2357\u001b[0m         \u001b[38;5;28;01massert\u001b[39;00m exc_info[\u001b[38;5;241m1\u001b[39m] \u001b[38;5;129;01mis\u001b[39;00m \u001b[38;5;129;01mnot\u001b[39;00m \u001b[38;5;28;01mNone\u001b[39;00m\n\u001b[1;32m-> 2358\u001b[0m         \u001b[38;5;28;01mraise\u001b[39;00m exc_info[\u001b[38;5;241m1\u001b[39m]\u001b[38;5;241m.\u001b[39mwith_traceback(exc_info[\u001b[38;5;241m2\u001b[39m])\n\u001b[0;32m   2359\u001b[0m \u001b[38;5;28;01mfinally\u001b[39;00m:\n\u001b[0;32m   2360\u001b[0m     \u001b[38;5;28;01mdel\u001b[39;00m \u001b[38;5;28mself\u001b[39m\u001b[38;5;241m.\u001b[39m_reentrant_error\n",
      "File \u001b[1;32mc:\\Users\\eremi\\Documents\\4. Projects\\2024-07 YTRatings\\yt_fetcher\\.venv\\Lib\\site-packages\\sqlalchemy\\engine\\base.py:1967\u001b[0m, in \u001b[0;36mConnection._exec_single_context\u001b[1;34m(self, dialect, context, statement, parameters)\u001b[0m\n\u001b[0;32m   1965\u001b[0m                 \u001b[38;5;28;01mbreak\u001b[39;00m\n\u001b[0;32m   1966\u001b[0m     \u001b[38;5;28;01mif\u001b[39;00m \u001b[38;5;129;01mnot\u001b[39;00m evt_handled:\n\u001b[1;32m-> 1967\u001b[0m         \u001b[38;5;28;43mself\u001b[39;49m\u001b[38;5;241;43m.\u001b[39;49m\u001b[43mdialect\u001b[49m\u001b[38;5;241;43m.\u001b[39;49m\u001b[43mdo_execute\u001b[49m\u001b[43m(\u001b[49m\n\u001b[0;32m   1968\u001b[0m \u001b[43m            \u001b[49m\u001b[43mcursor\u001b[49m\u001b[43m,\u001b[49m\u001b[43m \u001b[49m\u001b[43mstr_statement\u001b[49m\u001b[43m,\u001b[49m\u001b[43m \u001b[49m\u001b[43meffective_parameters\u001b[49m\u001b[43m,\u001b[49m\u001b[43m \u001b[49m\u001b[43mcontext\u001b[49m\n\u001b[0;32m   1969\u001b[0m \u001b[43m        \u001b[49m\u001b[43m)\u001b[49m\n\u001b[0;32m   1971\u001b[0m \u001b[38;5;28;01mif\u001b[39;00m \u001b[38;5;28mself\u001b[39m\u001b[38;5;241m.\u001b[39m_has_events \u001b[38;5;129;01mor\u001b[39;00m \u001b[38;5;28mself\u001b[39m\u001b[38;5;241m.\u001b[39mengine\u001b[38;5;241m.\u001b[39m_has_events:\n\u001b[0;32m   1972\u001b[0m     \u001b[38;5;28mself\u001b[39m\u001b[38;5;241m.\u001b[39mdispatch\u001b[38;5;241m.\u001b[39mafter_cursor_execute(\n\u001b[0;32m   1973\u001b[0m         \u001b[38;5;28mself\u001b[39m,\n\u001b[0;32m   1974\u001b[0m         cursor,\n\u001b[1;32m   (...)\u001b[0m\n\u001b[0;32m   1978\u001b[0m         context\u001b[38;5;241m.\u001b[39mexecutemany,\n\u001b[0;32m   1979\u001b[0m     )\n",
      "File \u001b[1;32mc:\\Users\\eremi\\Documents\\4. Projects\\2024-07 YTRatings\\yt_fetcher\\.venv\\Lib\\site-packages\\sqlalchemy\\engine\\default.py:941\u001b[0m, in \u001b[0;36mDefaultDialect.do_execute\u001b[1;34m(self, cursor, statement, parameters, context)\u001b[0m\n\u001b[0;32m    940\u001b[0m \u001b[38;5;28;01mdef\u001b[39;00m \u001b[38;5;21mdo_execute\u001b[39m(\u001b[38;5;28mself\u001b[39m, cursor, statement, parameters, context\u001b[38;5;241m=\u001b[39m\u001b[38;5;28;01mNone\u001b[39;00m):\n\u001b[1;32m--> 941\u001b[0m     \u001b[43mcursor\u001b[49m\u001b[38;5;241;43m.\u001b[39;49m\u001b[43mexecute\u001b[49m\u001b[43m(\u001b[49m\u001b[43mstatement\u001b[49m\u001b[43m,\u001b[49m\u001b[43m \u001b[49m\u001b[43mparameters\u001b[49m\u001b[43m)\u001b[49m\n",
      "File \u001b[1;32mc:\\Users\\eremi\\Documents\\4. Projects\\2024-07 YTRatings\\yt_fetcher\\.venv\\Lib\\site-packages\\sqlalchemy\\dialects\\postgresql\\asyncpg.py:572\u001b[0m, in \u001b[0;36mAsyncAdapt_asyncpg_cursor.execute\u001b[1;34m(self, operation, parameters)\u001b[0m\n\u001b[0;32m    571\u001b[0m \u001b[38;5;28;01mdef\u001b[39;00m \u001b[38;5;21mexecute\u001b[39m(\u001b[38;5;28mself\u001b[39m, operation, parameters\u001b[38;5;241m=\u001b[39m\u001b[38;5;28;01mNone\u001b[39;00m):\n\u001b[1;32m--> 572\u001b[0m     \u001b[38;5;28;43mself\u001b[39;49m\u001b[38;5;241;43m.\u001b[39;49m\u001b[43m_adapt_connection\u001b[49m\u001b[38;5;241;43m.\u001b[39;49m\u001b[43mawait_\u001b[49m\u001b[43m(\u001b[49m\n\u001b[0;32m    573\u001b[0m \u001b[43m        \u001b[49m\u001b[38;5;28;43mself\u001b[39;49m\u001b[38;5;241;43m.\u001b[39;49m\u001b[43m_prepare_and_execute\u001b[49m\u001b[43m(\u001b[49m\u001b[43moperation\u001b[49m\u001b[43m,\u001b[49m\u001b[43m \u001b[49m\u001b[43mparameters\u001b[49m\u001b[43m)\u001b[49m\n\u001b[0;32m    574\u001b[0m \u001b[43m    \u001b[49m\u001b[43m)\u001b[49m\n",
      "File \u001b[1;32mc:\\Users\\eremi\\Documents\\4. Projects\\2024-07 YTRatings\\yt_fetcher\\.venv\\Lib\\site-packages\\sqlalchemy\\util\\_concurrency_py3k.py:132\u001b[0m, in \u001b[0;36mawait_only\u001b[1;34m(awaitable)\u001b[0m\n\u001b[0;32m    123\u001b[0m     \u001b[38;5;28;01mraise\u001b[39;00m exc\u001b[38;5;241m.\u001b[39mMissingGreenlet(\n\u001b[0;32m    124\u001b[0m         \u001b[38;5;124m\"\u001b[39m\u001b[38;5;124mgreenlet_spawn has not been called; can\u001b[39m\u001b[38;5;124m'\u001b[39m\u001b[38;5;124mt call await_only() \u001b[39m\u001b[38;5;124m\"\u001b[39m\n\u001b[0;32m    125\u001b[0m         \u001b[38;5;124m\"\u001b[39m\u001b[38;5;124mhere. Was IO attempted in an unexpected place?\u001b[39m\u001b[38;5;124m\"\u001b[39m\n\u001b[0;32m    126\u001b[0m     )\n\u001b[0;32m    128\u001b[0m \u001b[38;5;66;03m# returns the control to the driver greenlet passing it\u001b[39;00m\n\u001b[0;32m    129\u001b[0m \u001b[38;5;66;03m# a coroutine to run. Once the awaitable is done, the driver greenlet\u001b[39;00m\n\u001b[0;32m    130\u001b[0m \u001b[38;5;66;03m# switches back to this greenlet with the result of awaitable that is\u001b[39;00m\n\u001b[0;32m    131\u001b[0m \u001b[38;5;66;03m# then returned to the caller (or raised as error)\u001b[39;00m\n\u001b[1;32m--> 132\u001b[0m \u001b[38;5;28;01mreturn\u001b[39;00m \u001b[43mcurrent\u001b[49m\u001b[38;5;241;43m.\u001b[39;49m\u001b[43mparent\u001b[49m\u001b[38;5;241;43m.\u001b[39;49m\u001b[43mswitch\u001b[49m\u001b[43m(\u001b[49m\u001b[43mawaitable\u001b[49m\u001b[43m)\u001b[49m\n",
      "File \u001b[1;32mc:\\Users\\eremi\\Documents\\4. Projects\\2024-07 YTRatings\\yt_fetcher\\.venv\\Lib\\site-packages\\sqlalchemy\\util\\_concurrency_py3k.py:196\u001b[0m, in \u001b[0;36mgreenlet_spawn\u001b[1;34m(fn, _require_await, *args, **kwargs)\u001b[0m\n\u001b[0;32m    192\u001b[0m switch_occurred \u001b[38;5;241m=\u001b[39m \u001b[38;5;28;01mTrue\u001b[39;00m\n\u001b[0;32m    193\u001b[0m \u001b[38;5;28;01mtry\u001b[39;00m:\n\u001b[0;32m    194\u001b[0m     \u001b[38;5;66;03m# wait for a coroutine from await_only and then return its\u001b[39;00m\n\u001b[0;32m    195\u001b[0m     \u001b[38;5;66;03m# result back to it.\u001b[39;00m\n\u001b[1;32m--> 196\u001b[0m     value \u001b[38;5;241m=\u001b[39m \u001b[38;5;28;01mawait\u001b[39;00m result\n\u001b[0;32m    197\u001b[0m \u001b[38;5;28;01mexcept\u001b[39;00m \u001b[38;5;167;01mBaseException\u001b[39;00m:\n\u001b[0;32m    198\u001b[0m     \u001b[38;5;66;03m# this allows an exception to be raised within\u001b[39;00m\n\u001b[0;32m    199\u001b[0m     \u001b[38;5;66;03m# the moderated greenlet so that it can continue\u001b[39;00m\n\u001b[0;32m    200\u001b[0m     \u001b[38;5;66;03m# its expected flow.\u001b[39;00m\n\u001b[0;32m    201\u001b[0m     result \u001b[38;5;241m=\u001b[39m context\u001b[38;5;241m.\u001b[39mthrow(\u001b[38;5;241m*\u001b[39msys\u001b[38;5;241m.\u001b[39mexc_info())\n",
      "File \u001b[1;32mc:\\Users\\eremi\\Documents\\4. Projects\\2024-07 YTRatings\\yt_fetcher\\.venv\\Lib\\site-packages\\sqlalchemy\\dialects\\postgresql\\asyncpg.py:538\u001b[0m, in \u001b[0;36mAsyncAdapt_asyncpg_cursor._prepare_and_execute\u001b[1;34m(self, operation, parameters)\u001b[0m\n\u001b[0;32m    536\u001b[0m     \u001b[38;5;28mself\u001b[39m\u001b[38;5;241m.\u001b[39mrowcount \u001b[38;5;241m=\u001b[39m \u001b[38;5;241m-\u001b[39m\u001b[38;5;241m1\u001b[39m\n\u001b[0;32m    537\u001b[0m \u001b[38;5;28;01melse\u001b[39;00m:\n\u001b[1;32m--> 538\u001b[0m     \u001b[38;5;28mself\u001b[39m\u001b[38;5;241m.\u001b[39m_rows \u001b[38;5;241m=\u001b[39m deque(\u001b[38;5;28;01mawait\u001b[39;00m prepared_stmt\u001b[38;5;241m.\u001b[39mfetch(\u001b[38;5;241m*\u001b[39mparameters))\n\u001b[0;32m    539\u001b[0m     status \u001b[38;5;241m=\u001b[39m prepared_stmt\u001b[38;5;241m.\u001b[39mget_statusmsg()\n\u001b[0;32m    541\u001b[0m     reg \u001b[38;5;241m=\u001b[39m re\u001b[38;5;241m.\u001b[39mmatch(\n\u001b[0;32m    542\u001b[0m         \u001b[38;5;124mr\u001b[39m\u001b[38;5;124m\"\u001b[39m\u001b[38;5;124m(?:SELECT|UPDATE|DELETE|INSERT \u001b[39m\u001b[38;5;124m\\\u001b[39m\u001b[38;5;124md+) (\u001b[39m\u001b[38;5;124m\\\u001b[39m\u001b[38;5;124md+)\u001b[39m\u001b[38;5;124m\"\u001b[39m, status\n\u001b[0;32m    543\u001b[0m     )\n",
      "File \u001b[1;32mc:\\Users\\eremi\\Documents\\4. Projects\\2024-07 YTRatings\\yt_fetcher\\.venv\\Lib\\site-packages\\asyncpg\\prepared_stmt.py:176\u001b[0m, in \u001b[0;36mPreparedStatement.fetch\u001b[1;34m(self, timeout, *args)\u001b[0m\n\u001b[0;32m    166\u001b[0m \u001b[38;5;129m@connresource\u001b[39m\u001b[38;5;241m.\u001b[39mguarded\n\u001b[0;32m    167\u001b[0m \u001b[38;5;28;01masync\u001b[39;00m \u001b[38;5;28;01mdef\u001b[39;00m \u001b[38;5;21mfetch\u001b[39m(\u001b[38;5;28mself\u001b[39m, \u001b[38;5;241m*\u001b[39margs, timeout\u001b[38;5;241m=\u001b[39m\u001b[38;5;28;01mNone\u001b[39;00m):\n\u001b[0;32m    168\u001b[0m \u001b[38;5;250m    \u001b[39m\u001b[38;5;124mr\u001b[39m\u001b[38;5;124;03m\"\"\"Execute the statement and return a list of :class:`Record` objects.\u001b[39;00m\n\u001b[0;32m    169\u001b[0m \n\u001b[0;32m    170\u001b[0m \u001b[38;5;124;03m    :param str query: Query text\u001b[39;00m\n\u001b[1;32m   (...)\u001b[0m\n\u001b[0;32m    174\u001b[0m \u001b[38;5;124;03m    :return: A list of :class:`Record` instances.\u001b[39;00m\n\u001b[0;32m    175\u001b[0m \u001b[38;5;124;03m    \"\"\"\u001b[39;00m\n\u001b[1;32m--> 176\u001b[0m     data \u001b[38;5;241m=\u001b[39m \u001b[38;5;28;01mawait\u001b[39;00m \u001b[38;5;28mself\u001b[39m\u001b[38;5;241m.\u001b[39m__bind_execute(args, \u001b[38;5;241m0\u001b[39m, timeout)\n\u001b[0;32m    177\u001b[0m     \u001b[38;5;28;01mreturn\u001b[39;00m data\n",
      "File \u001b[1;32mc:\\Users\\eremi\\Documents\\4. Projects\\2024-07 YTRatings\\yt_fetcher\\.venv\\Lib\\site-packages\\asyncpg\\prepared_stmt.py:241\u001b[0m, in \u001b[0;36mPreparedStatement.__bind_execute\u001b[1;34m(self, args, limit, timeout)\u001b[0m\n\u001b[0;32m    240\u001b[0m \u001b[38;5;28;01masync\u001b[39;00m \u001b[38;5;28;01mdef\u001b[39;00m \u001b[38;5;21m__bind_execute\u001b[39m(\u001b[38;5;28mself\u001b[39m, args, limit, timeout):\n\u001b[1;32m--> 241\u001b[0m     data, status, _ \u001b[38;5;241m=\u001b[39m \u001b[38;5;28;01mawait\u001b[39;00m \u001b[38;5;28mself\u001b[39m\u001b[38;5;241m.\u001b[39m__do_execute(\n\u001b[0;32m    242\u001b[0m         \u001b[38;5;28;01mlambda\u001b[39;00m protocol: protocol\u001b[38;5;241m.\u001b[39mbind_execute(\n\u001b[0;32m    243\u001b[0m             \u001b[38;5;28mself\u001b[39m\u001b[38;5;241m.\u001b[39m_state, args, \u001b[38;5;124m'\u001b[39m\u001b[38;5;124m'\u001b[39m, limit, \u001b[38;5;28;01mTrue\u001b[39;00m, timeout))\n\u001b[0;32m    244\u001b[0m     \u001b[38;5;28mself\u001b[39m\u001b[38;5;241m.\u001b[39m_last_status \u001b[38;5;241m=\u001b[39m status\n\u001b[0;32m    245\u001b[0m     \u001b[38;5;28;01mreturn\u001b[39;00m data\n",
      "File \u001b[1;32mc:\\Users\\eremi\\Documents\\4. Projects\\2024-07 YTRatings\\yt_fetcher\\.venv\\Lib\\site-packages\\asyncpg\\prepared_stmt.py:230\u001b[0m, in \u001b[0;36mPreparedStatement.__do_execute\u001b[1;34m(self, executor)\u001b[0m\n\u001b[0;32m    228\u001b[0m protocol \u001b[38;5;241m=\u001b[39m \u001b[38;5;28mself\u001b[39m\u001b[38;5;241m.\u001b[39m_connection\u001b[38;5;241m.\u001b[39m_protocol\n\u001b[0;32m    229\u001b[0m \u001b[38;5;28;01mtry\u001b[39;00m:\n\u001b[1;32m--> 230\u001b[0m     \u001b[38;5;28;01mreturn\u001b[39;00m \u001b[38;5;28;01mawait\u001b[39;00m executor(protocol)\n\u001b[0;32m    231\u001b[0m \u001b[38;5;28;01mexcept\u001b[39;00m exceptions\u001b[38;5;241m.\u001b[39mOutdatedSchemaCacheError:\n\u001b[0;32m    232\u001b[0m     \u001b[38;5;28;01mawait\u001b[39;00m \u001b[38;5;28mself\u001b[39m\u001b[38;5;241m.\u001b[39m_connection\u001b[38;5;241m.\u001b[39mreload_schema_state()\n",
      "File \u001b[1;32mc:\\Users\\eremi\\Documents\\4. Projects\\2024-07 YTRatings\\yt_fetcher\\.venv\\Lib\\site-packages\\asyncpg\\protocol\\protocol.pyx:207\u001b[0m, in \u001b[0;36mbind_execute\u001b[1;34m()\u001b[0m\n",
      "File \u001b[1;32mC:\\Python312\\Lib\\asyncio\\futures.py:287\u001b[0m, in \u001b[0;36mFuture.__await__\u001b[1;34m(self)\u001b[0m\n\u001b[0;32m    285\u001b[0m \u001b[38;5;28;01mif\u001b[39;00m \u001b[38;5;129;01mnot\u001b[39;00m \u001b[38;5;28mself\u001b[39m\u001b[38;5;241m.\u001b[39mdone():\n\u001b[0;32m    286\u001b[0m     \u001b[38;5;28mself\u001b[39m\u001b[38;5;241m.\u001b[39m_asyncio_future_blocking \u001b[38;5;241m=\u001b[39m \u001b[38;5;28;01mTrue\u001b[39;00m\n\u001b[1;32m--> 287\u001b[0m     \u001b[38;5;28;01myield\u001b[39;00m \u001b[38;5;28mself\u001b[39m  \u001b[38;5;66;03m# This tells Task to wait for completion.\u001b[39;00m\n\u001b[0;32m    288\u001b[0m \u001b[38;5;28;01mif\u001b[39;00m \u001b[38;5;129;01mnot\u001b[39;00m \u001b[38;5;28mself\u001b[39m\u001b[38;5;241m.\u001b[39mdone():\n\u001b[0;32m    289\u001b[0m     \u001b[38;5;28;01mraise\u001b[39;00m \u001b[38;5;167;01mRuntimeError\u001b[39;00m(\u001b[38;5;124m\"\u001b[39m\u001b[38;5;124mawait wasn\u001b[39m\u001b[38;5;124m'\u001b[39m\u001b[38;5;124mt used with future\u001b[39m\u001b[38;5;124m\"\u001b[39m)\n",
      "\u001b[1;31mCancelledError\u001b[0m: "
     ]
    }
   ],
   "source": [
    "from openai import OpenAI\n",
    "import json\n",
    "from app.config import settings\n",
    "from app.logger import logger, save_errors\n",
    "from app.channel import VideoStatDAO, VideoDAO\n",
    "from app.period import Period\n",
    "\n",
    "import csv\n",
    "from datetime import datetime\n",
    "\n",
    "\n",
    "csv_file_path = 'logs/2024-12-19-14-53-46video_detail_errors_.csv'\n",
    "\n",
    "\n",
    "# Чтение CSV и преобразование в JSON\n",
    "with open(csv_file_path, mode='r', encoding='utf-8') as csv_file:\n",
    "    csv_reader = csv.DictReader(csv_file, delimiter=\"\\t\")\n",
    "    json_data = [row for row in csv_reader]\n",
    "\n",
    "LIMIT = 500\n",
    "\n",
    "for item in json_data:\n",
    "    # item[\"data_at\"] = datetime.strptime(item[\"data_at\"], \"%Y-%m-%d %H:%M:%S\")\n",
    "    # item[\"report_period\"] = datetime.strptime(item[\"report_period\"], \"%Y-%m-%d\")\n",
    "    # for key in 'view_count like_count comment_count'.split(\" \"):\n",
    "        # item[key] = int(item[key])\n",
    "        \n",
    "    item[\"duration\"] = int(item[\"duration\"])\n",
    "    item[\"is_short\"] = bool(item[\"is_short\"])\n",
    "        \n",
    "        \n",
    "# 'data_at': '2024-12-01 00:05:29.664345', 'view_count': '350724', 'like_count': '15000', 'comment_count': '2113', 'report_period': '2024-11-01'    \n",
    "\n",
    "print(len(json_data))\n",
    "\n",
    "for i in range(0, len(json_data), LIMIT):\n",
    "    data = json_data[i:(i+LIMIT)]\n",
    "    # res = await VideoStatDAO.add_bulk(data)\n",
    "    res = await VideoDAO.update_bulk(data)\n",
    "    if res: print(f\"{i}/{len(json_data)}\")\n",
    "\n",
    "\n"
   ]
  },
  {
   "cell_type": "code",
   "execution_count": 7,
   "id": "a02b7c78",
   "metadata": {},
   "outputs": [
    {
     "name": "stdout",
     "output_type": "stream",
     "text": [
      "2729\n"
     ]
    },
    {
     "data": {
      "text/plain": [
       "True"
      ]
     },
     "execution_count": 7,
     "metadata": {},
     "output_type": "execute_result"
    }
   ],
   "source": [
    "import app.api.ytapi as yt\n",
    "# data = await VideoDAO.find_all(is_short=None)\n",
    "# data = [dict(i) for i in data]\n",
    "print(len(data))\n",
    "await yt.check_shorts(data[:3])\n",
    "await VideoDAO.update_bulk(data[:3])\n"
   ]
  },
  {
   "cell_type": "code",
   "execution_count": 25,
   "id": "8c869d80",
   "metadata": {},
   "outputs": [
    {
     "name": "stdout",
     "output_type": "stream",
     "text": [
      "20\n"
     ]
    },
    {
     "data": {
      "text/plain": [
       "True"
      ]
     },
     "execution_count": 25,
     "metadata": {},
     "output_type": "execute_result"
    }
   ],
   "source": [
    "import app.api.openaiapi as oai\n",
    "\n",
    "# videos = await VideoDAO.find_all(is_clickbait=None, is_short=False, published_at_period=period)\n",
    "print(len(videos))\n",
    "\n",
    "# LIMIT = 50\n",
    "# instructions = \"\"\"Ты на вход получишь данные с video_id и заголовком видео, разделенных табом. Для каждого заголовка тебе нужно определить, является ли он кликбейт и почему (clickbait_comment). Кликбейт — это термин, описывающий веб-контент, целью которого является получение дохода от онлайн-рекламы, особенно в ущерб качеству или точности информации. Пожалуйста, выведи только массив объектов в JSON формате:\n",
    "\n",
    "# [ { \"video_id\": <>, \"is_clickbait\": 1 or 0, \"clickbait_comment\": <> }, ... ]\n",
    "\n",
    "# Не добавляй в ответ никаких дополнительных слов, символов или переносов строк. Вот входные данные:\"\"\"\n",
    "\n",
    "# responses = []\n",
    "# for i in range(0, len(videos), LIMIT):\n",
    "#     data = [\n",
    "#         (item[\"video_id\"] + \"\\t\" + item[\"title\"])\n",
    "#         for item in videos[i : (i + LIMIT)]\n",
    "#     ]\n",
    "\n",
    "#     prompt = instructions + \"\\n\".join(data) + \"\\n\"\n",
    "#     response = oai.chat_with_gpt(prompt, is_json=True, temperature=0.5)\n",
    "#     if response:\n",
    "#         responses.extend(response)\n",
    "#         # await cls.update_bulk(response)\n",
    "#     print(f\"Progress: {i+LIMIT}/{len(videos)}\")\n",
    "\n",
    "# print(len(responses))\n",
    "await VideoDAO.update_bulk(responses)"
   ]
  },
  {
   "cell_type": "code",
   "execution_count": 12,
   "id": "1b087bf7",
   "metadata": {},
   "outputs": [
    {
     "data": {
      "text/plain": [
       "True"
      ]
     },
     "execution_count": 12,
     "metadata": {},
     "output_type": "execute_result"
    }
   ],
   "source": [
    "temp_data = [{'video_id': 'R-QILXiz05Y', 'is_clickbait': 1, 'clickbait_comment': 'Заголовок содержит множество популярных игр, что привлекает внимание, но не дает четкой информации.'}, {'video_id': 'qpB7l_o-JjY', 'is_clickbait': 1, 'clickbait_comment': 'Заголовок вызывает интерес к новым играм, но не раскрывает конкретных деталей.'}, {'video_id': 'WMS5LP8iWUg', 'is_clickbait': 1, 'clickbait_comment': \"Обещает 'первые подробности', что может быть манипуляцией для привлечения кликов.\"}, {'video_id': '5ryKoimoB5E', 'is_clickbait': 1, 'clickbait_comment': 'Использует названия популярных игр для привлечения внимания, не предоставляя фактической информации.'}, {'video_id': 'CWxUnsDjeb0', 'is_clickbait': 0, 'clickbait_comment': 'Заголовок содержит конкретные темы и не вызывает чрезмерного интереса.'}, {'video_id': 'XpmHGygZWUU', 'is_clickbait': 1, 'clickbait_comment': 'Обещает сенсационные новости, но не дает конкретной информации.'}, {'video_id': 'yUkMPkIMJhY', 'is_clickbait': 1, 'clickbait_comment': 'Заголовок вызывает интерес к громким событиям, не раскрывая сути.'}, {'video_id': 'trnh5eINcoU', 'is_clickbait': 1, 'clickbait_comment': 'Содержит множество тем, что создает интригу, но не дает ясности.'}, {'video_id': 'CP0rdVqt5UE', 'is_clickbait': 1, 'clickbait_comment': 'Заголовок использует популярные игры и темы для привлечения внимания.'}, {'video_id': '_-yeo97fv-U', 'is_clickbait': 1, 'clickbait_comment': 'Создает интригу, но не предоставляет четкой информации.'}, {'video_id': 'W_CBzJcmSA0', 'is_clickbait': 1, 'clickbait_comment': 'Заголовок манипулирует интересом к скандалам, что может быть кликбейтом.'}, {'video_id': 'HRXj_iIpAK4', 'is_clickbait': 1, 'clickbait_comment': 'Заголовок вызывает интерес к военным событиям, но не раскрывает сути.'}, {'video_id': 'wSzdG_yL2Ik', 'is_clickbait': 1, 'clickbait_comment': 'Использует сенсационные темы для привлечения внимания.'}, {'video_id': 'y3qyeuRLEVc', 'is_clickbait': 1, 'clickbait_comment': 'Заголовок вызывает интерес, но не предоставляет фактической информации.'}, {'video_id': 'o2_7cP-650E', 'is_clickbait': 1, 'clickbait_comment': 'Обещает важные новости, но не раскрывает конкретных деталей.'}, {'video_id': '5HHg3z1lfng', 'is_clickbait': 1, 'clickbait_comment': 'Создает интригу, но не предоставляет ясной информации.'}, {'video_id': 'icCH6jn1k04', 'is_clickbait': 1, 'clickbait_comment': 'Заголовок вызывает шок, что может быть манипуляцией для кликов.'}, {'video_id': '8zZ78-0fOro', 'is_clickbait': 1, 'clickbait_comment': 'Использует сенсационные темы для привлечения внимания.'}, {'video_id': 'cw4pA5y1_wA', 'is_clickbait': 1, 'clickbait_comment': 'Заголовок манипулирует историческими фигурами для привлечения интереса.'}, {'video_id': 'TvuMtJIfvAw', 'is_clickbait': 1, 'clickbait_comment': 'Создает интригу, но не предоставляет четкой информации.'}, {'video_id': 'DN0cCV3Dkh4', 'is_clickbait': 1, 'clickbait_comment': 'Заголовок вызывает интерес к военным событиям, но не раскрывает сути.'}, {'video_id': 'dx5zT6r3wNs', 'is_clickbait': 1, 'clickbait_comment': 'Создает интригу, но не предоставляет ясной информации.'}, {'video_id': 'AkWmWEm8NP8', 'is_clickbait': 1, 'clickbait_comment': 'Заголовок вызывает интерес к политическим темам, но не раскрывает сути.'}, {'video_id': 'mc4TXshAaZo', 'is_clickbait': 1, 'clickbait_comment': 'Использует сенсационные темы для привлечения внимания.'}, {'video_id': 'qihwU-vdCrY', 'is_clickbait': 1, 'clickbait_comment': 'Заголовок вызывает интерес к экономическим темам, но не раскрывает сути.'}, {'video_id': 'vThksHyahZQ', 'is_clickbait': 1, 'clickbait_comment': 'Создает интригу, но не предоставляет четкой информации.'}, {'video_id': 'w4SXM5q6i5c', 'is_clickbait': 1, 'clickbait_comment': 'Использует сенсационные темы для привлечения внимания.'}, {'video_id': 'L4LAUDAMer0', 'is_clickbait': 1, 'clickbait_comment': 'Заголовок вызывает интерес к трагическим событиям, но не раскрывает сути.'}, {'video_id': 'V1Kja6s4D_E', 'is_clickbait': 1, 'clickbait_comment': 'Создает интригу, но не предоставляет ясной информации.'}, {'video_id': 'QejY5f0d-yM', 'is_clickbait': 1, 'clickbait_comment': 'Заголовок вызывает интерес к политическим событиям, но не раскрывает сути.'}, {'video_id': 'Uafo93Y2uys', 'is_clickbait': 1, 'clickbait_comment': 'Создает интригу, но не предоставляет четкой информации.'}, {'video_id': 'PLWp3bg20to', 'is_clickbait': 1, 'clickbait_comment': 'Использует провокационные темы для привлечения внимания.'}, {'video_id': 'h_yA3RznQUs', 'is_clickbait': 0, 'clickbait_comment': 'Заголовок не вызывает чрезмерного интереса и содержит конкретную информацию.'}, {'video_id': 'rgjb7mZw-QE', 'is_clickbait': 1, 'clickbait_comment': 'Создает интригу, но не предоставляет ясной информации.'}, {'video_id': 'AzrQJxWBlns', 'is_clickbait': 1, 'clickbait_comment': 'Использует сенсационные темы для привлечения внимания.'}, {'video_id': 'aAF1fQp-uwo', 'is_clickbait': 1, 'clickbait_comment': 'Обещает сенсационные новости, но не дает конкретной информации.'}, {'video_id': 'LGYzR2zo5Ls', 'is_clickbait': 0, 'clickbait_comment': 'Заголовок содержит конкретные факты и не вызывает чрезмерного интереса.'}, {'video_id': 'gN0grA2Srx8', 'is_clickbait': 1, 'clickbait_comment': 'Создает интригу, но не предоставляет четкой информации.'}, {'video_id': 'Kv-H5x4lVs8', 'is_clickbait': 1, 'clickbait_comment': 'Заголовок вызывает интерес к популярной теме, но не раскрывает сути.'}, {'video_id': 'oNcaAMEJcJ8', 'is_clickbait': 1, 'clickbait_comment': 'Создает интригу, но не предоставляет ясной информации.'}, {'video_id': 'n6anwcoZK4I', 'is_clickbait': 1, 'clickbait_comment': 'Использует популярные темы для привлечения внимания.'}, {'video_id': '9OcYaQ451pg', 'is_clickbait': 1, 'clickbait_comment': 'Создает интригу, но не предоставляет четкой информации.'}, {'video_id': '4ArbpP1MGto', 'is_clickbait': 1, 'clickbait_comment': 'Заголовок вызывает интерес к популярной теме, но не раскрывает сути.'}, {'video_id': '2xB_4XAT2QA', 'is_clickbait': 1, 'clickbait_comment': 'Использует провокационные темы для привлечения внимания.'}, {'video_id': 'BXzrv_Za7wY', 'is_clickbait': 1, 'clickbait_comment': 'Создает интригу, но не предоставляет ясной информации.'}, {'video_id': 'TJGeSMSaF-Q', 'is_clickbait': 1, 'clickbait_comment': 'Обещает сенсационные новости, но не дает конкретной информации.'}, {'video_id': 'EocTY3pkjXQ', 'is_clickbait': 1, 'clickbait_comment': 'Использует провокационные темы для привлечения внимания.'}, {'video_id': 'KPccYhF8tlI', 'is_clickbait': 1, 'clickbait_comment': 'Создает интригу, но не предоставляет четкой информации.'}, {'video_id': 'eax55TfSBWc', 'is_clickbait': 1, 'clickbait_comment': 'Обещает сенсационные новости, но не дает конкретной информации.'}, {'video_id': 'fPkYwnmwkXg', 'is_clickbait': 1, 'clickbait_comment': 'Использует провокационные темы для привлечения внимания.'}]\n",
    "await VideoDAO.update_bulk(temp_data)"
   ]
  },
  {
   "cell_type": "code",
   "execution_count": 24,
   "id": "b8dbe5a6",
   "metadata": {},
   "outputs": [],
   "source": [
    "responses[0][\"video_id\"]='a1Z12O5abgU'\n",
    "# videos[0]"
   ]
  },
  {
   "cell_type": "code",
   "execution_count": 3,
   "id": "be7dd822",
   "metadata": {},
   "outputs": [],
   "source": []
  },
  {
   "cell_type": "code",
   "execution_count": 3,
   "id": "b73ccada",
   "metadata": {},
   "outputs": [
    {
     "data": {
      "text/plain": [
       "42"
      ]
     },
     "execution_count": 3,
     "metadata": {},
     "output_type": "execute_result"
    }
   ],
   "source": []
  }
 ],
 "metadata": {
  "kernelspec": {
   "display_name": ".venv",
   "language": "python",
   "name": "python3"
  },
  "language_info": {
   "codemirror_mode": {
    "name": "ipython",
    "version": 3
   },
   "file_extension": ".py",
   "mimetype": "text/x-python",
   "name": "python",
   "nbconvert_exporter": "python",
   "pygments_lexer": "ipython3",
   "version": "3.12.2"
  }
 },
 "nbformat": 4,
 "nbformat_minor": 5
}
