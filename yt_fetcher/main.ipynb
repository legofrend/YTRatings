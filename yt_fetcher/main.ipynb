{
 "cells": [
  {
   "cell_type": "code",
   "execution_count": 21,
   "id": "d40e7f68",
   "metadata": {},
   "outputs": [],
   "source": [
    "from app.period import Period\n",
    "from app.channel import ChannelDAO, ChannelStatDAO, VideoDAO, VideoStatDAO\n",
    "from app.report import ReportDAO\n",
    "import nest_asyncio\n",
    "nest_asyncio.apply()\n",
    "\n",
    "\n",
    "category_id = 5\n",
    "period = Period(10)\n",
    "\n",
    "## Add new channel\n",
    "# names = \"\"\"@kinopoisk\"\"\".split(\" \")\n",
    "# print(names)\n",
    "# VideoDAO.search_new_by_channel_period(names, period)\n",
    "# print(\"OK\")\n",
    "\n",
    "# for name in names:\n",
    "#     ChannelDAO.search_channel(name, category_id=category_id)\n",
    "# res = ChannelDAO.update_detail()\n",
    "\n",
    "## Update data for period\n",
    "# res = ChannelStatDAO.update_stat(report_period=period, category_id=category_id)\n",
    "# VideoDAO.search_new_by_category_period(period=period, category_ids=category_id)\n",
    "# VideoDAO.update_detail()\n",
    "# VideoDAO.update_is_short()\n",
    "# VideoStatDAO.update_stat(report_period=period, category_id=category_id)\n",
    "# ReportDAO.build(period, category_id)\n",
    "\n",
    "from app.report.tools import gen_script, render_info_pic\n",
    "\n",
    "# tmpl_file = \"../video_gen/templates/script_tmpl_auto_short.txt\"\n",
    "# output_file = \"../video_gen/2024-10/Авто/script.txt\"\n",
    "# report = await ReportDAO.get(period, category_id)\n",
    "# data = report.data\n",
    "\n",
    "# gen_script(report.data, tmpl_file, output_file)\n",
    "\n",
    "# for item in data[:1]:\n",
    "#     render_info_pic(report.period, report.category.name, item, 0)\n",
    "\n",
    "\n"
   ]
  },
  {
   "cell_type": "code",
   "execution_count": 16,
   "id": "c50f1d98",
   "metadata": {},
   "outputs": [
    {
     "name": "stdout",
     "output_type": "stream",
     "text": [
      "8644\n",
      "0/8644\n",
      "500/8644\n",
      "1000/8644\n",
      "1500/8644\n",
      "2000/8644\n",
      "2500/8644\n",
      "3000/8644\n",
      "3500/8644\n",
      "4000/8644\n",
      "4500/8644\n",
      "5000/8644\n",
      "5500/8644\n",
      "6000/8644\n",
      "6500/8644\n",
      "7000/8644\n",
      "7500/8644\n",
      "8000/8644\n",
      "8500/8644\n"
     ]
    }
   ],
   "source": [
    "from openai import OpenAI\n",
    "import json\n",
    "from app.config import settings\n",
    "from app.logger import logger, save_errors\n",
    "from app.channel import VideoStatDAO\n",
    "from app.period import Period\n",
    "\n",
    "import csv\n",
    "from datetime import datetime\n",
    "\n",
    "\n",
    "csv_file_path = 'logs/2024-12-01-00-06-02video_stat_errors_.csv'\n",
    "\n",
    "\n",
    "# Чтение CSV и преобразование в JSON\n",
    "# with open(csv_file_path, mode='r', encoding='utf-8') as csv_file:\n",
    "#     csv_reader = csv.DictReader(csv_file, delimiter=\"\\t\")\n",
    "#     json_data = [row for row in csv_reader]\n",
    "\n",
    "LIMIT = 500\n",
    "\n",
    "# for item in json_data:\n",
    "#     item[\"data_at\"] = datetime.strptime(item[\"data_at\"], \"%Y-%m-%d %H:%M:%S.%f\")\n",
    "#     item[\"report_period\"] = datetime.strptime(item[\"report_period\"], \"%Y-%m-%d\")\n",
    "#     for key in 'view_count like_count comment_count'.split(\" \"):\n",
    "#         item[key] = int(item[key])\n",
    "# 'data_at': '2024-12-01 00:05:29.664345', 'view_count': '350724', 'like_count': '15000', 'comment_count': '2113', 'report_period': '2024-11-01'    \n",
    "\n",
    "print(len(json_data))\n",
    "\n",
    "for i in range(0, len(json_data), LIMIT):\n",
    "    data = json_data[i:(i+LIMIT)]\n",
    "    res = await VideoStatDAO.add_bulk(data)\n",
    "    if res: print(f\"{i}/{len(json_data)}\")\n",
    "\n",
    "\n"
   ]
  },
  {
   "cell_type": "code",
   "execution_count": 17,
   "id": "a02b7c78",
   "metadata": {},
   "outputs": [
    {
     "name": "stdout",
     "output_type": "stream",
     "text": [
      "[{'video_id': '0053KrMVwe8', 'data_at': datetime.datetime(2024, 12, 1, 0, 5, 29, 664345), 'view_count': 350724, 'like_count': 15000, 'comment_count': 2113, 'report_period': datetime.datetime(2024, 11, 1, 0, 0)}, {'video_id': '00DxCcPOmCg', 'data_at': datetime.datetime(2024, 12, 1, 0, 5, 29, 664345), 'view_count': 57333, 'like_count': 1162, 'comment_count': 37, 'report_period': datetime.datetime(2024, 11, 1, 0, 0)}, {'video_id': '00FjLcSypjk', 'data_at': datetime.datetime(2024, 12, 1, 0, 5, 29, 664345), 'view_count': 839661, 'like_count': 2841, 'comment_count': 127, 'report_period': datetime.datetime(2024, 11, 1, 0, 0)}]\n"
     ]
    }
   ],
   "source": [
    "print(json_data[:3])\n",
    "\n",
    "\n"
   ]
  },
  {
   "cell_type": "code",
   "execution_count": null,
   "id": "8c869d80",
   "metadata": {},
   "outputs": [
    {
     "data": {
      "text/plain": [
       "[2, 1]"
      ]
     },
     "execution_count": 14,
     "metadata": {},
     "output_type": "execute_result"
    }
   ],
   "source": [
    "\n",
    "\n"
   ]
  },
  {
   "cell_type": "code",
   "execution_count": null,
   "id": "1b087bf7",
   "metadata": {},
   "outputs": [],
   "source": [
    "\n"
   ]
  },
  {
   "cell_type": "code",
   "execution_count": null,
   "id": "b8dbe5a6",
   "metadata": {},
   "outputs": [],
   "source": []
  },
  {
   "cell_type": "code",
   "execution_count": 3,
   "id": "be7dd822",
   "metadata": {},
   "outputs": [],
   "source": []
  },
  {
   "cell_type": "code",
   "execution_count": 3,
   "id": "b73ccada",
   "metadata": {},
   "outputs": [
    {
     "data": {
      "text/plain": [
       "42"
      ]
     },
     "execution_count": 3,
     "metadata": {},
     "output_type": "execute_result"
    }
   ],
   "source": []
  }
 ],
 "metadata": {
  "kernelspec": {
   "display_name": ".venv",
   "language": "python",
   "name": "python3"
  },
  "language_info": {
   "codemirror_mode": {
    "name": "ipython",
    "version": 3
   },
   "file_extension": ".py",
   "mimetype": "text/x-python",
   "name": "python",
   "nbconvert_exporter": "python",
   "pygments_lexer": "ipython3",
   "version": "3.12.2"
  }
 },
 "nbformat": 4,
 "nbformat_minor": 5
}
